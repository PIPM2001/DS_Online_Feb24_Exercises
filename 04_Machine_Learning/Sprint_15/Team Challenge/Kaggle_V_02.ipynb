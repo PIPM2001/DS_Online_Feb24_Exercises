{
 "cells": [
  {
   "cell_type": "markdown",
   "metadata": {},
   "source": [
    "#### Aquí encontrarás todo lo que necesitas saber: https://www.kaggle.com/competitions/desafio-de-prediccion-de-precios-de-portatiles"
   ]
  },
  {
   "cell_type": "markdown",
   "metadata": {},
   "source": [
    "## Librerias"
   ]
  },
  {
   "cell_type": "code",
   "execution_count": 60,
   "metadata": {},
   "outputs": [],
   "source": [
    "import Toolbox_ML as tlb\n",
    "import bootcampviztools as bt\n",
    "import pandas as pd\n",
    "import numpy as np\n",
    "import matplotlib.pyplot as plt\n",
    "import seaborn as sns\n",
    "import re\n",
    "\n",
    "from sklearn.preprocessing import MinMaxScaler, StandardScaler\n",
    "from sklearn.model_selection import cross_val_score, train_test_split, GridSearchCV\n",
    "from sklearn.metrics import mean_squared_error, r2_score, mean_absolute_error\n",
    "from sklearn import linear_model, metrics, model_selection\n",
    "\n",
    "from sklearn.linear_model import LinearRegression\n",
    "from sklearn.linear_model import Ridge\n",
    "from sklearn.linear_model import Lasso\n",
    "from sklearn.linear_model import ElasticNet\n",
    "from sklearn.svm import SVR\n",
    "from sklearn.tree import DecisionTreeRegressor\n",
    "from sklearn.ensemble import RandomForestRegressor\n",
    "from sklearn.ensemble import GradientBoostingRegressor\n",
    "from xgboost import XGBRegressor\n",
    "from lightgbm import LGBMRegressor\n",
    "from catboost import CatBoostRegressor\n",
    "\n"
   ]
  },
  {
   "cell_type": "markdown",
   "metadata": {},
   "source": [
    "## Data"
   ]
  },
  {
   "cell_type": "code",
   "execution_count": 3,
   "metadata": {},
   "outputs": [
    {
     "data": {
      "text/html": [
       "<div>\n",
       "<style scoped>\n",
       "    .dataframe tbody tr th:only-of-type {\n",
       "        vertical-align: middle;\n",
       "    }\n",
       "\n",
       "    .dataframe tbody tr th {\n",
       "        vertical-align: top;\n",
       "    }\n",
       "\n",
       "    .dataframe thead th {\n",
       "        text-align: right;\n",
       "    }\n",
       "</style>\n",
       "<table border=\"1\" class=\"dataframe\">\n",
       "  <thead>\n",
       "    <tr style=\"text-align: right;\">\n",
       "      <th></th>\n",
       "      <th>id</th>\n",
       "      <th>laptop_ID</th>\n",
       "      <th>Company</th>\n",
       "      <th>Product</th>\n",
       "      <th>TypeName</th>\n",
       "      <th>Inches</th>\n",
       "      <th>ScreenResolution</th>\n",
       "      <th>Cpu</th>\n",
       "      <th>Ram</th>\n",
       "      <th>Memory</th>\n",
       "      <th>Gpu</th>\n",
       "      <th>OpSys</th>\n",
       "      <th>Weight</th>\n",
       "      <th>Price_euros</th>\n",
       "    </tr>\n",
       "  </thead>\n",
       "  <tbody>\n",
       "    <tr>\n",
       "      <th>0</th>\n",
       "      <td>268</td>\n",
       "      <td>1002</td>\n",
       "      <td>Dell</td>\n",
       "      <td>Inspiron 5567</td>\n",
       "      <td>Notebook</td>\n",
       "      <td>15.6</td>\n",
       "      <td>1366x768</td>\n",
       "      <td>Intel Core i7 7500U 2.7GHz</td>\n",
       "      <td>8GB</td>\n",
       "      <td>1TB HDD</td>\n",
       "      <td>AMD Radeon R7 M445</td>\n",
       "      <td>Windows 10</td>\n",
       "      <td>2.36kg</td>\n",
       "      <td>749.00</td>\n",
       "    </tr>\n",
       "    <tr>\n",
       "      <th>1</th>\n",
       "      <td>347</td>\n",
       "      <td>867</td>\n",
       "      <td>Asus</td>\n",
       "      <td>X541NA (N4200/4GB/1TB/W10)</td>\n",
       "      <td>Notebook</td>\n",
       "      <td>15.6</td>\n",
       "      <td>1366x768</td>\n",
       "      <td>Intel Pentium Quad Core N4200 1.1GHz</td>\n",
       "      <td>4GB</td>\n",
       "      <td>1TB HDD</td>\n",
       "      <td>Intel HD Graphics 505</td>\n",
       "      <td>Windows 10</td>\n",
       "      <td>2kg</td>\n",
       "      <td>449.00</td>\n",
       "    </tr>\n",
       "    <tr>\n",
       "      <th>2</th>\n",
       "      <td>353</td>\n",
       "      <td>966</td>\n",
       "      <td>Toshiba</td>\n",
       "      <td>Portege Z30-C-1CW</td>\n",
       "      <td>Notebook</td>\n",
       "      <td>13.3</td>\n",
       "      <td>Full HD 1920x1080</td>\n",
       "      <td>Intel Core i5 6200U 2.3GHz</td>\n",
       "      <td>8GB</td>\n",
       "      <td>256GB SSD</td>\n",
       "      <td>Intel HD Graphics 520</td>\n",
       "      <td>Windows 7</td>\n",
       "      <td>1.2kg</td>\n",
       "      <td>1460.00</td>\n",
       "    </tr>\n",
       "    <tr>\n",
       "      <th>3</th>\n",
       "      <td>578</td>\n",
       "      <td>767</td>\n",
       "      <td>Dell</td>\n",
       "      <td>Alienware 17</td>\n",
       "      <td>Gaming</td>\n",
       "      <td>15.6</td>\n",
       "      <td>IPS Panel 4K Ultra HD 3840x2160</td>\n",
       "      <td>Intel Core i7 7700HQ 2.8GHz</td>\n",
       "      <td>16GB</td>\n",
       "      <td>256GB SSD +  1TB HDD</td>\n",
       "      <td>Nvidia GeForce GTX 1070</td>\n",
       "      <td>Windows 10</td>\n",
       "      <td>4.42kg</td>\n",
       "      <td>2868.99</td>\n",
       "    </tr>\n",
       "    <tr>\n",
       "      <th>4</th>\n",
       "      <td>42</td>\n",
       "      <td>1241</td>\n",
       "      <td>Dell</td>\n",
       "      <td>Latitude E7270</td>\n",
       "      <td>Ultrabook</td>\n",
       "      <td>12.5</td>\n",
       "      <td>Full HD / Touchscreen 1920x1080</td>\n",
       "      <td>Intel Core i5 6300U 2.4GHz</td>\n",
       "      <td>8GB</td>\n",
       "      <td>256GB SSD</td>\n",
       "      <td>Intel HD Graphics 520</td>\n",
       "      <td>Windows 7</td>\n",
       "      <td>1.26kg</td>\n",
       "      <td>1713.37</td>\n",
       "    </tr>\n",
       "    <tr>\n",
       "      <th>...</th>\n",
       "      <td>...</td>\n",
       "      <td>...</td>\n",
       "      <td>...</td>\n",
       "      <td>...</td>\n",
       "      <td>...</td>\n",
       "      <td>...</td>\n",
       "      <td>...</td>\n",
       "      <td>...</td>\n",
       "      <td>...</td>\n",
       "      <td>...</td>\n",
       "      <td>...</td>\n",
       "      <td>...</td>\n",
       "      <td>...</td>\n",
       "      <td>...</td>\n",
       "    </tr>\n",
       "    <tr>\n",
       "      <th>907</th>\n",
       "      <td>89</td>\n",
       "      <td>973</td>\n",
       "      <td>Acer</td>\n",
       "      <td>Chromebook C738T-C2EJ</td>\n",
       "      <td>2 in 1 Convertible</td>\n",
       "      <td>11.6</td>\n",
       "      <td>IPS Panel Touchscreen 1366x768</td>\n",
       "      <td>Intel Celeron Dual Core N3060 1.6GHz</td>\n",
       "      <td>4GB</td>\n",
       "      <td>32GB Flash Storage</td>\n",
       "      <td>Intel HD Graphics 400</td>\n",
       "      <td>Chrome OS</td>\n",
       "      <td>1.25kg</td>\n",
       "      <td>389.00</td>\n",
       "    </tr>\n",
       "    <tr>\n",
       "      <th>908</th>\n",
       "      <td>716</td>\n",
       "      <td>1018</td>\n",
       "      <td>Toshiba</td>\n",
       "      <td>Portege Z30-C-16H</td>\n",
       "      <td>Notebook</td>\n",
       "      <td>13.3</td>\n",
       "      <td>Full HD 1920x1080</td>\n",
       "      <td>Intel Core i5 6200U 2.3GHz</td>\n",
       "      <td>4GB</td>\n",
       "      <td>128GB SSD</td>\n",
       "      <td>Intel HD Graphics 520</td>\n",
       "      <td>Windows 10</td>\n",
       "      <td>1.2kg</td>\n",
       "      <td>1195.00</td>\n",
       "    </tr>\n",
       "    <tr>\n",
       "      <th>909</th>\n",
       "      <td>517</td>\n",
       "      <td>1071</td>\n",
       "      <td>Acer</td>\n",
       "      <td>Aspire ES1-523</td>\n",
       "      <td>Notebook</td>\n",
       "      <td>15.6</td>\n",
       "      <td>1366x768</td>\n",
       "      <td>AMD A8-Series 7410 2.2GHz</td>\n",
       "      <td>8GB</td>\n",
       "      <td>1TB HDD</td>\n",
       "      <td>AMD Radeon R5</td>\n",
       "      <td>Windows 10</td>\n",
       "      <td>2.4kg</td>\n",
       "      <td>449.00</td>\n",
       "    </tr>\n",
       "    <tr>\n",
       "      <th>910</th>\n",
       "      <td>891</td>\n",
       "      <td>965</td>\n",
       "      <td>Dell</td>\n",
       "      <td>Latitude 7480</td>\n",
       "      <td>Ultrabook</td>\n",
       "      <td>14.0</td>\n",
       "      <td>Full HD 1920x1080</td>\n",
       "      <td>Intel Core i7 7600U 2.8GHz</td>\n",
       "      <td>8GB</td>\n",
       "      <td>256GB SSD</td>\n",
       "      <td>Intel HD Graphics 620</td>\n",
       "      <td>Windows 10</td>\n",
       "      <td>1.36kg</td>\n",
       "      <td>1775.00</td>\n",
       "    </tr>\n",
       "    <tr>\n",
       "      <th>911</th>\n",
       "      <td>1179</td>\n",
       "      <td>1313</td>\n",
       "      <td>Dell</td>\n",
       "      <td>Inspiron 3567</td>\n",
       "      <td>Notebook</td>\n",
       "      <td>15.6</td>\n",
       "      <td>1366x768</td>\n",
       "      <td>Intel Core i7 7500U 2.7GHz</td>\n",
       "      <td>8GB</td>\n",
       "      <td>1TB HDD</td>\n",
       "      <td>AMD Radeon R5 M430</td>\n",
       "      <td>Linux</td>\n",
       "      <td>2.3kg</td>\n",
       "      <td>805.99</td>\n",
       "    </tr>\n",
       "  </tbody>\n",
       "</table>\n",
       "<p>912 rows × 14 columns</p>\n",
       "</div>"
      ],
      "text/plain": [
       "       id  laptop_ID  Company                     Product            TypeName  \\\n",
       "0     268       1002     Dell               Inspiron 5567            Notebook   \n",
       "1     347        867     Asus  X541NA (N4200/4GB/1TB/W10)            Notebook   \n",
       "2     353        966  Toshiba           Portege Z30-C-1CW            Notebook   \n",
       "3     578        767     Dell                Alienware 17              Gaming   \n",
       "4      42       1241     Dell              Latitude E7270           Ultrabook   \n",
       "..    ...        ...      ...                         ...                 ...   \n",
       "907    89        973     Acer       Chromebook C738T-C2EJ  2 in 1 Convertible   \n",
       "908   716       1018  Toshiba           Portege Z30-C-16H            Notebook   \n",
       "909   517       1071     Acer              Aspire ES1-523            Notebook   \n",
       "910   891        965     Dell               Latitude 7480           Ultrabook   \n",
       "911  1179       1313     Dell               Inspiron 3567            Notebook   \n",
       "\n",
       "     Inches                 ScreenResolution  \\\n",
       "0      15.6                         1366x768   \n",
       "1      15.6                         1366x768   \n",
       "2      13.3                Full HD 1920x1080   \n",
       "3      15.6  IPS Panel 4K Ultra HD 3840x2160   \n",
       "4      12.5  Full HD / Touchscreen 1920x1080   \n",
       "..      ...                              ...   \n",
       "907    11.6   IPS Panel Touchscreen 1366x768   \n",
       "908    13.3                Full HD 1920x1080   \n",
       "909    15.6                         1366x768   \n",
       "910    14.0                Full HD 1920x1080   \n",
       "911    15.6                         1366x768   \n",
       "\n",
       "                                      Cpu   Ram                Memory  \\\n",
       "0              Intel Core i7 7500U 2.7GHz   8GB               1TB HDD   \n",
       "1    Intel Pentium Quad Core N4200 1.1GHz   4GB               1TB HDD   \n",
       "2              Intel Core i5 6200U 2.3GHz   8GB             256GB SSD   \n",
       "3             Intel Core i7 7700HQ 2.8GHz  16GB  256GB SSD +  1TB HDD   \n",
       "4              Intel Core i5 6300U 2.4GHz   8GB             256GB SSD   \n",
       "..                                    ...   ...                   ...   \n",
       "907  Intel Celeron Dual Core N3060 1.6GHz   4GB    32GB Flash Storage   \n",
       "908            Intel Core i5 6200U 2.3GHz   4GB             128GB SSD   \n",
       "909             AMD A8-Series 7410 2.2GHz   8GB               1TB HDD   \n",
       "910            Intel Core i7 7600U 2.8GHz   8GB             256GB SSD   \n",
       "911            Intel Core i7 7500U 2.7GHz   8GB               1TB HDD   \n",
       "\n",
       "                         Gpu       OpSys  Weight  Price_euros  \n",
       "0         AMD Radeon R7 M445  Windows 10  2.36kg       749.00  \n",
       "1      Intel HD Graphics 505  Windows 10     2kg       449.00  \n",
       "2      Intel HD Graphics 520   Windows 7   1.2kg      1460.00  \n",
       "3    Nvidia GeForce GTX 1070  Windows 10  4.42kg      2868.99  \n",
       "4      Intel HD Graphics 520   Windows 7  1.26kg      1713.37  \n",
       "..                       ...         ...     ...          ...  \n",
       "907    Intel HD Graphics 400   Chrome OS  1.25kg       389.00  \n",
       "908    Intel HD Graphics 520  Windows 10   1.2kg      1195.00  \n",
       "909            AMD Radeon R5  Windows 10   2.4kg       449.00  \n",
       "910    Intel HD Graphics 620  Windows 10  1.36kg      1775.00  \n",
       "911       AMD Radeon R5 M430       Linux   2.3kg       805.99  \n",
       "\n",
       "[912 rows x 14 columns]"
      ]
     },
     "execution_count": 3,
     "metadata": {},
     "output_type": "execute_result"
    }
   ],
   "source": [
    "### Para que funcione necesitas bajarte los archivos de datos de Kaggle \n",
    "df = pd.read_csv(\"./data/train.csv\")\n",
    "df"
   ]
  },
  {
   "cell_type": "markdown",
   "metadata": {},
   "source": [
    "## Data exploration"
   ]
  },
  {
   "cell_type": "code",
   "execution_count": 4,
   "metadata": {},
   "outputs": [
    {
     "data": {
      "text/html": [
       "<div>\n",
       "<style scoped>\n",
       "    .dataframe tbody tr th:only-of-type {\n",
       "        vertical-align: middle;\n",
       "    }\n",
       "\n",
       "    .dataframe tbody tr th {\n",
       "        vertical-align: top;\n",
       "    }\n",
       "\n",
       "    .dataframe thead th {\n",
       "        text-align: right;\n",
       "    }\n",
       "</style>\n",
       "<table border=\"1\" class=\"dataframe\">\n",
       "  <thead>\n",
       "    <tr style=\"text-align: right;\">\n",
       "      <th></th>\n",
       "      <th>id</th>\n",
       "      <th>laptop_ID</th>\n",
       "      <th>Company</th>\n",
       "      <th>Product</th>\n",
       "      <th>TypeName</th>\n",
       "      <th>Inches</th>\n",
       "      <th>ScreenResolution</th>\n",
       "      <th>Cpu</th>\n",
       "      <th>Ram</th>\n",
       "      <th>Memory</th>\n",
       "      <th>Gpu</th>\n",
       "      <th>OpSys</th>\n",
       "      <th>Weight</th>\n",
       "      <th>Price_euros</th>\n",
       "    </tr>\n",
       "  </thead>\n",
       "  <tbody>\n",
       "    <tr>\n",
       "      <th>Tipos</th>\n",
       "      <td>int64</td>\n",
       "      <td>int64</td>\n",
       "      <td>object</td>\n",
       "      <td>object</td>\n",
       "      <td>object</td>\n",
       "      <td>float64</td>\n",
       "      <td>object</td>\n",
       "      <td>object</td>\n",
       "      <td>object</td>\n",
       "      <td>object</td>\n",
       "      <td>object</td>\n",
       "      <td>object</td>\n",
       "      <td>object</td>\n",
       "      <td>float64</td>\n",
       "    </tr>\n",
       "    <tr>\n",
       "      <th>% Faltante</th>\n",
       "      <td>0.0</td>\n",
       "      <td>0.0</td>\n",
       "      <td>0.0</td>\n",
       "      <td>0.0</td>\n",
       "      <td>0.0</td>\n",
       "      <td>0.0</td>\n",
       "      <td>0.0</td>\n",
       "      <td>0.0</td>\n",
       "      <td>0.0</td>\n",
       "      <td>0.0</td>\n",
       "      <td>0.0</td>\n",
       "      <td>0.0</td>\n",
       "      <td>0.0</td>\n",
       "      <td>0.0</td>\n",
       "    </tr>\n",
       "    <tr>\n",
       "      <th>Valores Únicos</th>\n",
       "      <td>912</td>\n",
       "      <td>912</td>\n",
       "      <td>19</td>\n",
       "      <td>475</td>\n",
       "      <td>6</td>\n",
       "      <td>15</td>\n",
       "      <td>35</td>\n",
       "      <td>104</td>\n",
       "      <td>8</td>\n",
       "      <td>36</td>\n",
       "      <td>91</td>\n",
       "      <td>9</td>\n",
       "      <td>158</td>\n",
       "      <td>614</td>\n",
       "    </tr>\n",
       "    <tr>\n",
       "      <th>% Cardinalidad</th>\n",
       "      <td>100.0</td>\n",
       "      <td>100.0</td>\n",
       "      <td>2.08</td>\n",
       "      <td>52.08</td>\n",
       "      <td>0.66</td>\n",
       "      <td>1.64</td>\n",
       "      <td>3.84</td>\n",
       "      <td>11.4</td>\n",
       "      <td>0.88</td>\n",
       "      <td>3.95</td>\n",
       "      <td>9.98</td>\n",
       "      <td>0.99</td>\n",
       "      <td>17.32</td>\n",
       "      <td>67.32</td>\n",
       "    </tr>\n",
       "  </tbody>\n",
       "</table>\n",
       "</div>"
      ],
      "text/plain": [
       "                   id laptop_ID Company Product TypeName   Inches  \\\n",
       "Tipos           int64     int64  object  object   object  float64   \n",
       "% Faltante        0.0       0.0     0.0     0.0      0.0      0.0   \n",
       "Valores Únicos    912       912      19     475        6       15   \n",
       "% Cardinalidad  100.0     100.0    2.08   52.08     0.66     1.64   \n",
       "\n",
       "               ScreenResolution     Cpu     Ram  Memory     Gpu   OpSys  \\\n",
       "Tipos                    object  object  object  object  object  object   \n",
       "% Faltante                  0.0     0.0     0.0     0.0     0.0     0.0   \n",
       "Valores Únicos               35     104       8      36      91       9   \n",
       "% Cardinalidad             3.84    11.4    0.88    3.95    9.98    0.99   \n",
       "\n",
       "                Weight Price_euros  \n",
       "Tipos           object     float64  \n",
       "% Faltante         0.0         0.0  \n",
       "Valores Únicos     158         614  \n",
       "% Cardinalidad   17.32       67.32  "
      ]
     },
     "execution_count": 4,
     "metadata": {},
     "output_type": "execute_result"
    }
   ],
   "source": [
    "tlb.describe_df(df)"
   ]
  },
  {
   "cell_type": "markdown",
   "metadata": {},
   "source": [
    "Creo que \"id\", \"laptop_ID\" y \"Product\" no aportan informacion"
   ]
  },
  {
   "cell_type": "code",
   "execution_count": 5,
   "metadata": {},
   "outputs": [],
   "source": [
    "feat_out = [\"id\", \"laptop_ID\", \"Product\"]"
   ]
  },
  {
   "cell_type": "markdown",
   "metadata": {},
   "source": [
    "## Data processing"
   ]
  },
  {
   "cell_type": "code",
   "execution_count": 6,
   "metadata": {},
   "outputs": [
    {
     "name": "stdout",
     "output_type": "stream",
     "text": [
      "<class 'pandas.core.frame.DataFrame'>\n",
      "RangeIndex: 912 entries, 0 to 911\n",
      "Data columns (total 14 columns):\n",
      " #   Column            Non-Null Count  Dtype  \n",
      "---  ------            --------------  -----  \n",
      " 0   id                912 non-null    int64  \n",
      " 1   laptop_ID         912 non-null    int64  \n",
      " 2   Company           912 non-null    object \n",
      " 3   Product           912 non-null    object \n",
      " 4   TypeName          912 non-null    object \n",
      " 5   Inches            912 non-null    float64\n",
      " 6   ScreenResolution  912 non-null    object \n",
      " 7   Cpu               912 non-null    object \n",
      " 8   Ram               912 non-null    object \n",
      " 9   Memory            912 non-null    object \n",
      " 10  Gpu               912 non-null    object \n",
      " 11  OpSys             912 non-null    object \n",
      " 12  Weight            912 non-null    object \n",
      " 13  Price_euros       912 non-null    float64\n",
      "dtypes: float64(2), int64(2), object(10)\n",
      "memory usage: 99.9+ KB\n"
     ]
    }
   ],
   "source": [
    "df.info()"
   ]
  },
  {
   "cell_type": "markdown",
   "metadata": {},
   "source": [
    "## Data processing"
   ]
  },
  {
   "cell_type": "code",
   "execution_count": 7,
   "metadata": {},
   "outputs": [
    {
     "data": {
      "text/plain": [
       "TypeName\n",
       "Notebook              522\n",
       "Gaming                138\n",
       "Ultrabook             135\n",
       "2 in 1 Convertible     85\n",
       "Workstation            18\n",
       "Netbook                14\n",
       "Name: count, dtype: int64"
      ]
     },
     "execution_count": 7,
     "metadata": {},
     "output_type": "execute_result"
    }
   ],
   "source": [
    "df[\"TypeName\"].value_counts()"
   ]
  },
  {
   "cell_type": "code",
   "execution_count": 8,
   "metadata": {},
   "outputs": [],
   "source": [
    "feat_cat = [\"TypeName\"]"
   ]
  },
  {
   "cell_type": "code",
   "execution_count": 9,
   "metadata": {},
   "outputs": [
    {
     "data": {
      "text/plain": [
       "ScreenResolution\n",
       "Full HD 1920x1080                                346\n",
       "1366x768                                         208\n",
       "IPS Panel Full HD 1920x1080                      163\n",
       "IPS Panel Full HD / Touchscreen 1920x1080         37\n",
       "Full HD / Touchscreen 1920x1080                   32\n",
       "Touchscreen 1366x768                              15\n",
       "1600x900                                          11\n",
       "IPS Panel 4K Ultra HD 3840x2160                   10\n",
       "4K Ultra HD / Touchscreen 3840x2160                8\n",
       "Quad HD+ / Touchscreen 3200x1800                   8\n",
       "IPS Panel 4K Ultra HD / Touchscreen 3840x2160      8\n",
       "IPS Panel Retina Display 2304x1440                 6\n",
       "IPS Panel Retina Display 2560x1600                 5\n",
       "IPS Panel 1366x768                                 5\n",
       "4K Ultra HD 3840x2160                              5\n",
       "IPS Panel Touchscreen 1920x1200                    4\n",
       "Touchscreen 2560x1440                              4\n",
       "IPS Panel Quad HD+ / Touchscreen 3200x1800         4\n",
       "IPS Panel Touchscreen 2560x1440                    4\n",
       "1920x1080                                          3\n",
       "IPS Panel 2560x1440                                3\n",
       "IPS Panel Retina Display 2880x1800                 3\n",
       "Touchscreen 2256x1504                              3\n",
       "Quad HD+ 3200x1800                                 2\n",
       "Touchscreen 2400x1600                              2\n",
       "1440x900                                           2\n",
       "IPS Panel Touchscreen / 4K Ultra HD 3840x2160      2\n",
       "2560x1440                                          2\n",
       "IPS Panel Full HD 1920x1200                        1\n",
       "Touchscreen / 4K Ultra HD 3840x2160                1\n",
       "IPS Panel Quad HD+ 3200x1800                       1\n",
       "IPS Panel Quad HD+ 2560x1440                       1\n",
       "Touchscreen / Full HD 1920x1080                    1\n",
       "IPS Panel Full HD 2160x1440                        1\n",
       "IPS Panel Touchscreen 1366x768                     1\n",
       "Name: count, dtype: int64"
      ]
     },
     "execution_count": 9,
     "metadata": {},
     "output_type": "execute_result"
    }
   ],
   "source": [
    "df[\"ScreenResolution\"].value_counts()"
   ]
  },
  {
   "cell_type": "markdown",
   "metadata": {},
   "source": [
    "Las pantallas incrementan el precio del equipo cuanto mas resolucion tienen. Voy a extraer la resolucion. La calcularé en total de pixeles dividiré por 10e6."
   ]
  },
  {
   "cell_type": "code",
   "execution_count": 10,
   "metadata": {},
   "outputs": [],
   "source": [
    "patron = r\"(\\d+)x(\\d+)\""
   ]
  },
  {
   "cell_type": "code",
   "execution_count": 11,
   "metadata": {},
   "outputs": [],
   "source": [
    "df[\"Res_H\"] = [int(re.search(patron, valor).group(1)) for valor in df[\"ScreenResolution\"]]\n",
    "df[\"Res_V\"] = [int(re.search(patron, valor).group(2)) for valor in df[\"ScreenResolution\"]]\n",
    "df[\"Res_tot\"] = df[\"Res_H\"] * df[\"Res_V\"] /1000000"
   ]
  },
  {
   "cell_type": "code",
   "execution_count": 12,
   "metadata": {},
   "outputs": [],
   "source": [
    "feat_out += [\"ScreenResolution\", \"Res_H\", \"Res_V\"]"
   ]
  },
  {
   "cell_type": "markdown",
   "metadata": {},
   "source": [
    "Analizo Cpu"
   ]
  },
  {
   "cell_type": "code",
   "execution_count": 13,
   "metadata": {},
   "outputs": [
    {
     "data": {
      "text/plain": [
       "Cpu\n",
       "Intel Core i5 7200U 2.5GHz     142\n",
       "Intel Core i7 7700HQ 2.8GHz    102\n",
       "Intel Core i7 7500U 2.7GHz      88\n",
       "Intel Core i5 8250U 1.6GHz      54\n",
       "Intel Core i5 6200U 2.3GHz      51\n",
       "                              ... \n",
       "Intel Core i7 7660U 2.5GHz       1\n",
       "AMD E-Series E2-9000 2.2GHz      1\n",
       "Intel Core i3 6006U 2.2GHz       1\n",
       "Intel Core i7 2.8GHz             1\n",
       "AMD E-Series 9000 2.2GHz         1\n",
       "Name: count, Length: 104, dtype: int64"
      ]
     },
     "execution_count": 13,
     "metadata": {},
     "output_type": "execute_result"
    }
   ],
   "source": [
    "df[\"Cpu\"].value_counts()"
   ]
  },
  {
   "cell_type": "markdown",
   "metadata": {},
   "source": [
    "La CPUs incrementan el precio del equipo cuanto a mas velocidad(=GHz) de procesamiento tienen. Voy a extraer la velocidad."
   ]
  },
  {
   "cell_type": "code",
   "execution_count": 14,
   "metadata": {},
   "outputs": [],
   "source": [
    "list_cpu = [valor [-3:] for valor in df[\"Cpu\"]]"
   ]
  },
  {
   "cell_type": "code",
   "execution_count": 15,
   "metadata": {},
   "outputs": [
    {
     "data": {
      "text/plain": [
       "1.0"
      ]
     },
     "execution_count": 15,
     "metadata": {},
     "output_type": "execute_result"
    }
   ],
   "source": [
    "GHz_freq = list_cpu.count(\"GHz\") / len(list_cpu)\n",
    "GHz_freq"
   ]
  },
  {
   "cell_type": "markdown",
   "metadata": {},
   "source": [
    "Todo esta medido en GHZ"
   ]
  },
  {
   "cell_type": "code",
   "execution_count": 16,
   "metadata": {},
   "outputs": [],
   "source": [
    "patron_1 = r\"(\\d+\\.\\d+)GHz\"\n",
    "patron_2 = r\"(\\d+)GHz\""
   ]
  },
  {
   "cell_type": "code",
   "execution_count": 17,
   "metadata": {},
   "outputs": [
    {
     "data": {
      "text/plain": [
       "912"
      ]
     },
     "execution_count": 17,
     "metadata": {},
     "output_type": "execute_result"
    }
   ],
   "source": [
    "list_cpu = []\n",
    "for valor in df[\"Cpu\"]:\n",
    "    coincidencia_1 = re.search(patron_1, valor)\n",
    "    coincidencia_2 = re.search(patron_2, valor)\n",
    "\n",
    "    # Extraer el número si hay una coincidencia\n",
    "    if coincidencia_1:\n",
    "        ghz = float(coincidencia_1.group(1))  # Primer grupo de números decimales\n",
    "        #print(f\"Ghz_1: {ghz}\")\n",
    "        list_cpu.append(ghz)\n",
    "    elif coincidencia_2:\n",
    "        ghz = float(coincidencia_2.group(1))  # Primer grupo de números decimales\n",
    "        list_cpu.append(ghz)\n",
    "        #print(f\"Ghz_2: {ghz}\")\n",
    "    else:\n",
    "        print(f\"Error {valor}\")\n",
    "    \n",
    "\n",
    "len(list_cpu)      \n",
    "    "
   ]
  },
  {
   "cell_type": "code",
   "execution_count": 18,
   "metadata": {},
   "outputs": [],
   "source": [
    "df[\"GHz\"] = list_cpu"
   ]
  },
  {
   "cell_type": "code",
   "execution_count": 19,
   "metadata": {},
   "outputs": [],
   "source": [
    "feat_out += [\"Cpu\"]"
   ]
  },
  {
   "cell_type": "code",
   "execution_count": 20,
   "metadata": {},
   "outputs": [
    {
     "data": {
      "text/html": [
       "<div>\n",
       "<style scoped>\n",
       "    .dataframe tbody tr th:only-of-type {\n",
       "        vertical-align: middle;\n",
       "    }\n",
       "\n",
       "    .dataframe tbody tr th {\n",
       "        vertical-align: top;\n",
       "    }\n",
       "\n",
       "    .dataframe thead th {\n",
       "        text-align: right;\n",
       "    }\n",
       "</style>\n",
       "<table border=\"1\" class=\"dataframe\">\n",
       "  <thead>\n",
       "    <tr style=\"text-align: right;\">\n",
       "      <th></th>\n",
       "      <th>Cpu</th>\n",
       "      <th>GHz</th>\n",
       "      <th>Price_euros</th>\n",
       "    </tr>\n",
       "  </thead>\n",
       "  <tbody>\n",
       "    <tr>\n",
       "      <th>0</th>\n",
       "      <td>Intel Core i7 7500U 2.7GHz</td>\n",
       "      <td>2.7</td>\n",
       "      <td>749.00</td>\n",
       "    </tr>\n",
       "    <tr>\n",
       "      <th>1</th>\n",
       "      <td>Intel Pentium Quad Core N4200 1.1GHz</td>\n",
       "      <td>1.1</td>\n",
       "      <td>449.00</td>\n",
       "    </tr>\n",
       "    <tr>\n",
       "      <th>2</th>\n",
       "      <td>Intel Core i5 6200U 2.3GHz</td>\n",
       "      <td>2.3</td>\n",
       "      <td>1460.00</td>\n",
       "    </tr>\n",
       "    <tr>\n",
       "      <th>3</th>\n",
       "      <td>Intel Core i7 7700HQ 2.8GHz</td>\n",
       "      <td>2.8</td>\n",
       "      <td>2868.99</td>\n",
       "    </tr>\n",
       "    <tr>\n",
       "      <th>4</th>\n",
       "      <td>Intel Core i5 6300U 2.4GHz</td>\n",
       "      <td>2.4</td>\n",
       "      <td>1713.37</td>\n",
       "    </tr>\n",
       "    <tr>\n",
       "      <th>...</th>\n",
       "      <td>...</td>\n",
       "      <td>...</td>\n",
       "      <td>...</td>\n",
       "    </tr>\n",
       "    <tr>\n",
       "      <th>907</th>\n",
       "      <td>Intel Celeron Dual Core N3060 1.6GHz</td>\n",
       "      <td>1.6</td>\n",
       "      <td>389.00</td>\n",
       "    </tr>\n",
       "    <tr>\n",
       "      <th>908</th>\n",
       "      <td>Intel Core i5 6200U 2.3GHz</td>\n",
       "      <td>2.3</td>\n",
       "      <td>1195.00</td>\n",
       "    </tr>\n",
       "    <tr>\n",
       "      <th>909</th>\n",
       "      <td>AMD A8-Series 7410 2.2GHz</td>\n",
       "      <td>2.2</td>\n",
       "      <td>449.00</td>\n",
       "    </tr>\n",
       "    <tr>\n",
       "      <th>910</th>\n",
       "      <td>Intel Core i7 7600U 2.8GHz</td>\n",
       "      <td>2.8</td>\n",
       "      <td>1775.00</td>\n",
       "    </tr>\n",
       "    <tr>\n",
       "      <th>911</th>\n",
       "      <td>Intel Core i7 7500U 2.7GHz</td>\n",
       "      <td>2.7</td>\n",
       "      <td>805.99</td>\n",
       "    </tr>\n",
       "  </tbody>\n",
       "</table>\n",
       "<p>912 rows × 3 columns</p>\n",
       "</div>"
      ],
      "text/plain": [
       "                                      Cpu  GHz  Price_euros\n",
       "0              Intel Core i7 7500U 2.7GHz  2.7       749.00\n",
       "1    Intel Pentium Quad Core N4200 1.1GHz  1.1       449.00\n",
       "2              Intel Core i5 6200U 2.3GHz  2.3      1460.00\n",
       "3             Intel Core i7 7700HQ 2.8GHz  2.8      2868.99\n",
       "4              Intel Core i5 6300U 2.4GHz  2.4      1713.37\n",
       "..                                    ...  ...          ...\n",
       "907  Intel Celeron Dual Core N3060 1.6GHz  1.6       389.00\n",
       "908            Intel Core i5 6200U 2.3GHz  2.3      1195.00\n",
       "909             AMD A8-Series 7410 2.2GHz  2.2       449.00\n",
       "910            Intel Core i7 7600U 2.8GHz  2.8      1775.00\n",
       "911            Intel Core i7 7500U 2.7GHz  2.7       805.99\n",
       "\n",
       "[912 rows x 3 columns]"
      ]
     },
     "execution_count": 20,
     "metadata": {},
     "output_type": "execute_result"
    }
   ],
   "source": [
    "df[[\"Cpu\", \"GHz\", \"Price_euros\"]]"
   ]
  },
  {
   "cell_type": "markdown",
   "metadata": {},
   "source": [
    "Analizo RAM"
   ]
  },
  {
   "cell_type": "code",
   "execution_count": 182,
   "metadata": {},
   "outputs": [
    {
     "data": {
      "text/plain": [
       "Ram\n",
       "8GB     434\n",
       "4GB     274\n",
       "16GB    125\n",
       "6GB      32\n",
       "2GB      16\n",
       "12GB     15\n",
       "32GB     14\n",
       "24GB      2\n",
       "Name: count, dtype: int64"
      ]
     },
     "execution_count": 182,
     "metadata": {},
     "output_type": "execute_result"
    }
   ],
   "source": [
    "df[\"Ram\"].value_counts()"
   ]
  },
  {
   "cell_type": "markdown",
   "metadata": {},
   "source": [
    "La convierto en un entero"
   ]
  },
  {
   "cell_type": "code",
   "execution_count": 21,
   "metadata": {},
   "outputs": [],
   "source": [
    "patron = r\"(\\d+)GB\""
   ]
  },
  {
   "cell_type": "code",
   "execution_count": 22,
   "metadata": {},
   "outputs": [],
   "source": [
    "df[\"Ram_GB\"] = [int(re.search(patron, valor).group(1)) for valor in df[\"Ram\"]]"
   ]
  },
  {
   "cell_type": "code",
   "execution_count": 23,
   "metadata": {},
   "outputs": [],
   "source": [
    "feat_out += [\"Ram\"]"
   ]
  },
  {
   "cell_type": "code",
   "execution_count": 24,
   "metadata": {},
   "outputs": [
    {
     "data": {
      "text/plain": [
       "Memory\n",
       "256GB SSD                        293\n",
       "1TB HDD                          150\n",
       "500GB HDD                        100\n",
       "512GB SSD                         75\n",
       "128GB SSD +  1TB HDD              61\n",
       "128GB SSD                         56\n",
       "256GB SSD +  1TB HDD              52\n",
       "32GB Flash Storage                27\n",
       "64GB Flash Storage                11\n",
       "2TB HDD                           11\n",
       "512GB SSD +  1TB HDD              10\n",
       "1TB SSD                            9\n",
       "1.0TB Hybrid                       7\n",
       "256GB Flash Storage                7\n",
       "32GB SSD                           5\n",
       "180GB SSD                          5\n",
       "256GB SSD +  2TB HDD               4\n",
       "16GB Flash Storage                 4\n",
       "16GB SSD                           3\n",
       "256GB SSD +  500GB HDD             2\n",
       "1TB SSD +  1TB HDD                 2\n",
       "128GB Flash Storage                2\n",
       "512GB SSD +  2TB HDD               2\n",
       "512GB Flash Storage                2\n",
       "1.0TB HDD                          1\n",
       "32GB HDD                           1\n",
       "128GB SSD +  2TB HDD               1\n",
       "512GB SSD +  512GB SSD             1\n",
       "1TB HDD +  1TB HDD                 1\n",
       "256GB SSD +  256GB SSD             1\n",
       "64GB Flash Storage +  1TB HDD      1\n",
       "8GB SSD                            1\n",
       "240GB SSD                          1\n",
       "256GB SSD +  1.0TB Hybrid          1\n",
       "64GB SSD                           1\n",
       "512GB SSD +  1.0TB Hybrid          1\n",
       "Name: count, dtype: int64"
      ]
     },
     "execution_count": 24,
     "metadata": {},
     "output_type": "execute_result"
    }
   ],
   "source": [
    "df[\"Memory\"].value_counts()"
   ]
  },
  {
   "cell_type": "markdown",
   "metadata": {},
   "source": [
    "Veo muy complicado extraer informacion numerica de aquí. Y como categorica tiene muchas clases. De momento no la cojo"
   ]
  },
  {
   "cell_type": "code",
   "execution_count": 25,
   "metadata": {},
   "outputs": [],
   "source": [
    "feat_out += [\"Memory\"]"
   ]
  },
  {
   "cell_type": "code",
   "execution_count": 26,
   "metadata": {},
   "outputs": [
    {
     "data": {
      "text/plain": [
       "Gpu\n",
       "Intel HD Graphics 620      199\n",
       "Intel HD Graphics 520      138\n",
       "Intel UHD Graphics 620      45\n",
       "Nvidia GeForce GTX 1050     43\n",
       "Nvidia GeForce GTX 1060     31\n",
       "                          ... \n",
       "Nvidia GeForce 920MX         1\n",
       "Intel HD Graphics 620        1\n",
       "AMD Radeon R7 M365X          1\n",
       "Nvidia Quadro M2200M         1\n",
       "Nvidia Quadro M520M          1\n",
       "Name: count, Length: 91, dtype: int64"
      ]
     },
     "execution_count": 26,
     "metadata": {},
     "output_type": "execute_result"
    }
   ],
   "source": [
    "df[\"Gpu\"].value_counts()"
   ]
  },
  {
   "cell_type": "markdown",
   "metadata": {},
   "source": [
    "Veo muy complicado extraer informacion numerica de aquí. Y como categorica tiene muchas clases. De momento no la cojo"
   ]
  },
  {
   "cell_type": "code",
   "execution_count": 27,
   "metadata": {},
   "outputs": [],
   "source": [
    "feat_out += [\"Gpu\"]"
   ]
  },
  {
   "cell_type": "code",
   "execution_count": 28,
   "metadata": {},
   "outputs": [
    {
     "data": {
      "text/plain": [
       "OpSys\n",
       "Windows 10      0.817982\n",
       "Linux           0.051535\n",
       "No OS           0.048246\n",
       "Windows 7       0.035088\n",
       "Chrome OS       0.021930\n",
       "macOS           0.012061\n",
       "Mac OS X        0.006579\n",
       "Windows 10 S    0.004386\n",
       "Android         0.002193\n",
       "Name: proportion, dtype: float64"
      ]
     },
     "execution_count": 28,
     "metadata": {},
     "output_type": "execute_result"
    }
   ],
   "source": [
    "df[\"OpSys\"].value_counts(True)"
   ]
  },
  {
   "cell_type": "code",
   "execution_count": 29,
   "metadata": {},
   "outputs": [],
   "source": [
    "feat_out += [\"OpSys\"]"
   ]
  },
  {
   "cell_type": "markdown",
   "metadata": {},
   "source": [
    "Como categorica podríamos cogerla. Pero nos añade 9 columnas. Podríamos agrupar en Windows y el resto. Pero esta muy concentrada en Windows. No creo que nos aporte mucha informacion. De momento no la cojo"
   ]
  },
  {
   "cell_type": "code",
   "execution_count": 30,
   "metadata": {},
   "outputs": [
    {
     "data": {
      "text/plain": [
       "Company\n",
       "Lenovo       0.228070\n",
       "Dell         0.226974\n",
       "HP           0.207237\n",
       "Asus         0.118421\n",
       "Acer         0.082237\n",
       "Toshiba      0.040570\n",
       "MSI          0.037281\n",
       "Apple        0.018640\n",
       "Mediacom     0.007675\n",
       "Razer        0.006579\n",
       "Samsung      0.006579\n",
       "Fujitsu      0.003289\n",
       "Microsoft    0.003289\n",
       "Vero         0.003289\n",
       "Xiaomi       0.003289\n",
       "Google       0.002193\n",
       "Chuwi        0.002193\n",
       "LG           0.001096\n",
       "Huawei       0.001096\n",
       "Name: proportion, dtype: float64"
      ]
     },
     "execution_count": 30,
     "metadata": {},
     "output_type": "execute_result"
    }
   ],
   "source": [
    "df[\"Company\"].value_counts(True)"
   ]
  },
  {
   "cell_type": "code",
   "execution_count": 31,
   "metadata": {},
   "outputs": [],
   "source": [
    "def mapear_company(valor):\n",
    "    if valor not in ['Lenovo', 'Dell', 'HP']:\n",
    "        return 'Resto'\n",
    "    else:\n",
    "        return valor"
   ]
  },
  {
   "cell_type": "code",
   "execution_count": 32,
   "metadata": {},
   "outputs": [],
   "source": [
    "df['Company_map'] = df['Company'].apply(mapear_company)"
   ]
  },
  {
   "cell_type": "code",
   "execution_count": 33,
   "metadata": {},
   "outputs": [],
   "source": [
    "feat_cat += [\"Company_map\"]"
   ]
  },
  {
   "cell_type": "code",
   "execution_count": 34,
   "metadata": {},
   "outputs": [],
   "source": [
    "feat_out += [\"Company\"]"
   ]
  },
  {
   "cell_type": "markdown",
   "metadata": {},
   "source": [
    "Company la he agrupado en 4 clases."
   ]
  },
  {
   "cell_type": "markdown",
   "metadata": {},
   "source": [
    "Veamos Weight"
   ]
  },
  {
   "cell_type": "code",
   "execution_count": 35,
   "metadata": {},
   "outputs": [
    {
     "data": {
      "text/plain": [
       "Weight\n",
       "2.2kg     0.094298\n",
       "2.1kg     0.043860\n",
       "2.3kg     0.038377\n",
       "2.4kg     0.033991\n",
       "2kg       0.032895\n",
       "            ...   \n",
       "4.0kg     0.001096\n",
       "0.98kg    0.001096\n",
       "3.6kg     0.001096\n",
       "2.99kg    0.001096\n",
       "1.79kg    0.001096\n",
       "Name: proportion, Length: 158, dtype: float64"
      ]
     },
     "execution_count": 35,
     "metadata": {},
     "output_type": "execute_result"
    }
   ],
   "source": [
    "df[\"Weight\"].value_counts(True)"
   ]
  },
  {
   "cell_type": "markdown",
   "metadata": {},
   "source": [
    "La convierto en un float"
   ]
  },
  {
   "cell_type": "code",
   "execution_count": 36,
   "metadata": {},
   "outputs": [],
   "source": [
    "patron_1 = r\"(\\d+\\.\\d+)kg\"\n",
    "patron_2 = r\"(\\d+)kg\""
   ]
  },
  {
   "cell_type": "code",
   "execution_count": 37,
   "metadata": {},
   "outputs": [
    {
     "data": {
      "text/plain": [
       "912"
      ]
     },
     "execution_count": 37,
     "metadata": {},
     "output_type": "execute_result"
    }
   ],
   "source": [
    "list_weight = []\n",
    "for valor in df[\"Weight\"]:\n",
    "    coincidencia_1 = re.search(patron_1, valor)\n",
    "    coincidencia_2 = re.search(patron_2, valor)\n",
    "\n",
    "    # Extraer el número si hay una coincidencia\n",
    "    if coincidencia_1:\n",
    "        ghz = float(coincidencia_1.group(1))  # Primer grupo de números decimales\n",
    "        #print(f\"Ghz_1: {ghz}\")\n",
    "        list_weight.append(ghz)\n",
    "    elif coincidencia_2:\n",
    "        ghz = float(coincidencia_2.group(1))  # Primer grupo de números decimales\n",
    "        list_weight.append(ghz)\n",
    "        #print(f\"Ghz_2: {ghz}\")\n",
    "    else:\n",
    "        print(f\"Error {valor}\")\n",
    "    \n",
    "\n",
    "len(list_weight)    "
   ]
  },
  {
   "cell_type": "code",
   "execution_count": 38,
   "metadata": {},
   "outputs": [],
   "source": [
    "df[\"Weight_Kg\"] = list_weight"
   ]
  },
  {
   "cell_type": "code",
   "execution_count": 39,
   "metadata": {},
   "outputs": [],
   "source": [
    "feat_out += [\"Weight\"]"
   ]
  },
  {
   "cell_type": "code",
   "execution_count": 40,
   "metadata": {},
   "outputs": [
    {
     "data": {
      "text/html": [
       "<div>\n",
       "<style scoped>\n",
       "    .dataframe tbody tr th:only-of-type {\n",
       "        vertical-align: middle;\n",
       "    }\n",
       "\n",
       "    .dataframe tbody tr th {\n",
       "        vertical-align: top;\n",
       "    }\n",
       "\n",
       "    .dataframe thead th {\n",
       "        text-align: right;\n",
       "    }\n",
       "</style>\n",
       "<table border=\"1\" class=\"dataframe\">\n",
       "  <thead>\n",
       "    <tr style=\"text-align: right;\">\n",
       "      <th></th>\n",
       "      <th>TypeName</th>\n",
       "      <th>Inches</th>\n",
       "      <th>Price_euros</th>\n",
       "      <th>Res_tot</th>\n",
       "      <th>GHz</th>\n",
       "      <th>Ram_GB</th>\n",
       "      <th>Company_map</th>\n",
       "      <th>Weight_Kg</th>\n",
       "    </tr>\n",
       "  </thead>\n",
       "  <tbody>\n",
       "    <tr>\n",
       "      <th>0</th>\n",
       "      <td>Notebook</td>\n",
       "      <td>15.6</td>\n",
       "      <td>749.00</td>\n",
       "      <td>1.049088</td>\n",
       "      <td>2.7</td>\n",
       "      <td>8</td>\n",
       "      <td>Dell</td>\n",
       "      <td>2.36</td>\n",
       "    </tr>\n",
       "    <tr>\n",
       "      <th>1</th>\n",
       "      <td>Notebook</td>\n",
       "      <td>15.6</td>\n",
       "      <td>449.00</td>\n",
       "      <td>1.049088</td>\n",
       "      <td>1.1</td>\n",
       "      <td>4</td>\n",
       "      <td>Resto</td>\n",
       "      <td>2.00</td>\n",
       "    </tr>\n",
       "    <tr>\n",
       "      <th>2</th>\n",
       "      <td>Notebook</td>\n",
       "      <td>13.3</td>\n",
       "      <td>1460.00</td>\n",
       "      <td>2.073600</td>\n",
       "      <td>2.3</td>\n",
       "      <td>8</td>\n",
       "      <td>Resto</td>\n",
       "      <td>1.20</td>\n",
       "    </tr>\n",
       "    <tr>\n",
       "      <th>3</th>\n",
       "      <td>Gaming</td>\n",
       "      <td>15.6</td>\n",
       "      <td>2868.99</td>\n",
       "      <td>8.294400</td>\n",
       "      <td>2.8</td>\n",
       "      <td>16</td>\n",
       "      <td>Dell</td>\n",
       "      <td>4.42</td>\n",
       "    </tr>\n",
       "    <tr>\n",
       "      <th>4</th>\n",
       "      <td>Ultrabook</td>\n",
       "      <td>12.5</td>\n",
       "      <td>1713.37</td>\n",
       "      <td>2.073600</td>\n",
       "      <td>2.4</td>\n",
       "      <td>8</td>\n",
       "      <td>Dell</td>\n",
       "      <td>1.26</td>\n",
       "    </tr>\n",
       "    <tr>\n",
       "      <th>...</th>\n",
       "      <td>...</td>\n",
       "      <td>...</td>\n",
       "      <td>...</td>\n",
       "      <td>...</td>\n",
       "      <td>...</td>\n",
       "      <td>...</td>\n",
       "      <td>...</td>\n",
       "      <td>...</td>\n",
       "    </tr>\n",
       "    <tr>\n",
       "      <th>907</th>\n",
       "      <td>2 in 1 Convertible</td>\n",
       "      <td>11.6</td>\n",
       "      <td>389.00</td>\n",
       "      <td>1.049088</td>\n",
       "      <td>1.6</td>\n",
       "      <td>4</td>\n",
       "      <td>Resto</td>\n",
       "      <td>1.25</td>\n",
       "    </tr>\n",
       "    <tr>\n",
       "      <th>908</th>\n",
       "      <td>Notebook</td>\n",
       "      <td>13.3</td>\n",
       "      <td>1195.00</td>\n",
       "      <td>2.073600</td>\n",
       "      <td>2.3</td>\n",
       "      <td>4</td>\n",
       "      <td>Resto</td>\n",
       "      <td>1.20</td>\n",
       "    </tr>\n",
       "    <tr>\n",
       "      <th>909</th>\n",
       "      <td>Notebook</td>\n",
       "      <td>15.6</td>\n",
       "      <td>449.00</td>\n",
       "      <td>1.049088</td>\n",
       "      <td>2.2</td>\n",
       "      <td>8</td>\n",
       "      <td>Resto</td>\n",
       "      <td>2.40</td>\n",
       "    </tr>\n",
       "    <tr>\n",
       "      <th>910</th>\n",
       "      <td>Ultrabook</td>\n",
       "      <td>14.0</td>\n",
       "      <td>1775.00</td>\n",
       "      <td>2.073600</td>\n",
       "      <td>2.8</td>\n",
       "      <td>8</td>\n",
       "      <td>Dell</td>\n",
       "      <td>1.36</td>\n",
       "    </tr>\n",
       "    <tr>\n",
       "      <th>911</th>\n",
       "      <td>Notebook</td>\n",
       "      <td>15.6</td>\n",
       "      <td>805.99</td>\n",
       "      <td>1.049088</td>\n",
       "      <td>2.7</td>\n",
       "      <td>8</td>\n",
       "      <td>Dell</td>\n",
       "      <td>2.30</td>\n",
       "    </tr>\n",
       "  </tbody>\n",
       "</table>\n",
       "<p>912 rows × 8 columns</p>\n",
       "</div>"
      ],
      "text/plain": [
       "               TypeName  Inches  Price_euros   Res_tot  GHz  Ram_GB  \\\n",
       "0              Notebook    15.6       749.00  1.049088  2.7       8   \n",
       "1              Notebook    15.6       449.00  1.049088  1.1       4   \n",
       "2              Notebook    13.3      1460.00  2.073600  2.3       8   \n",
       "3                Gaming    15.6      2868.99  8.294400  2.8      16   \n",
       "4             Ultrabook    12.5      1713.37  2.073600  2.4       8   \n",
       "..                  ...     ...          ...       ...  ...     ...   \n",
       "907  2 in 1 Convertible    11.6       389.00  1.049088  1.6       4   \n",
       "908            Notebook    13.3      1195.00  2.073600  2.3       4   \n",
       "909            Notebook    15.6       449.00  1.049088  2.2       8   \n",
       "910           Ultrabook    14.0      1775.00  2.073600  2.8       8   \n",
       "911            Notebook    15.6       805.99  1.049088  2.7       8   \n",
       "\n",
       "    Company_map  Weight_Kg  \n",
       "0          Dell       2.36  \n",
       "1         Resto       2.00  \n",
       "2         Resto       1.20  \n",
       "3          Dell       4.42  \n",
       "4          Dell       1.26  \n",
       "..          ...        ...  \n",
       "907       Resto       1.25  \n",
       "908       Resto       1.20  \n",
       "909       Resto       2.40  \n",
       "910        Dell       1.36  \n",
       "911        Dell       2.30  \n",
       "\n",
       "[912 rows x 8 columns]"
      ]
     },
     "execution_count": 40,
     "metadata": {},
     "output_type": "execute_result"
    }
   ],
   "source": [
    "train = df.drop(columns=feat_out)\n",
    "train"
   ]
  },
  {
   "cell_type": "code",
   "execution_count": 41,
   "metadata": {},
   "outputs": [
    {
     "data": {
      "text/plain": [
       "['TypeName', 'Company_map']"
      ]
     },
     "execution_count": 41,
     "metadata": {},
     "output_type": "execute_result"
    }
   ],
   "source": [
    "feat_cat"
   ]
  },
  {
   "cell_type": "markdown",
   "metadata": {},
   "source": [
    "## MiniEDA"
   ]
  },
  {
   "cell_type": "code",
   "execution_count": 42,
   "metadata": {},
   "outputs": [],
   "source": [
    "target = \"Price_euros\""
   ]
  },
  {
   "cell_type": "code",
   "execution_count": 43,
   "metadata": {},
   "outputs": [
    {
     "data": {
      "text/plain": [
       "0.17687569204623205"
      ]
     },
     "execution_count": 43,
     "metadata": {},
     "output_type": "execute_result"
    }
   ],
   "source": [
    "196 / train[target].mean()"
   ]
  },
  {
   "cell_type": "code",
   "execution_count": 44,
   "metadata": {},
   "outputs": [],
   "source": [
    "feat_num = [col for col in train.columns if (not (col in feat_cat)) & (col !=target)]"
   ]
  },
  {
   "cell_type": "code",
   "execution_count": 206,
   "metadata": {},
   "outputs": [
    {
     "name": "stdout",
     "output_type": "stream",
     "text": [
      "(6, 2)\n"
     ]
    },
    {
     "data": {
      "image/png": "[encoded data removed]",
      "text/plain": [
       "<Figure size 1200x3000 with 12 Axes>"
      ]
     },
     "metadata": {},
     "output_type": "display_data"
    }
   ],
   "source": [
    "bt.plot_combined_graphs(train, [col for col in train.columns if not (col in feat_cat)])"
   ]
  },
  {
   "cell_type": "code",
   "execution_count": 45,
   "metadata": {},
   "outputs": [
    {
     "data": {
      "image/png": "[encoded data removed]",
      "text/plain": [
       "<Figure size 640x480 with 6 Axes>"
      ]
     },
     "metadata": {},
     "output_type": "display_data"
    }
   ],
   "source": [
    "figsize = (15,15)\n",
    "train[feat_num].hist()\n",
    "plt.tight_layout();"
   ]
  },
  {
   "cell_type": "code",
   "execution_count": 46,
   "metadata": {},
   "outputs": [],
   "source": [
    "for valor in feat_num:\n",
    "    train[valor]=np.log(train[valor] + 1 )"
   ]
  },
  {
   "cell_type": "code",
   "execution_count": 47,
   "metadata": {},
   "outputs": [
    {
     "data": {
      "image/png": "[encoded data removed]",
      "text/plain": [
       "<Figure size 640x480 with 6 Axes>"
      ]
     },
     "metadata": {},
     "output_type": "display_data"
    }
   ],
   "source": [
    "figsize = (15,15)\n",
    "train[feat_num].hist()\n",
    "plt.tight_layout();"
   ]
  },
  {
   "cell_type": "code",
   "execution_count": 48,
   "metadata": {},
   "outputs": [
    {
     "data": {
      "text/html": [
       "<div>\n",
       "<style scoped>\n",
       "    .dataframe tbody tr th:only-of-type {\n",
       "        vertical-align: middle;\n",
       "    }\n",
       "\n",
       "    .dataframe tbody tr th {\n",
       "        vertical-align: top;\n",
       "    }\n",
       "\n",
       "    .dataframe thead th {\n",
       "        text-align: right;\n",
       "    }\n",
       "</style>\n",
       "<table border=\"1\" class=\"dataframe\">\n",
       "  <thead>\n",
       "    <tr style=\"text-align: right;\">\n",
       "      <th></th>\n",
       "      <th>Inches</th>\n",
       "      <th>Price_euros</th>\n",
       "      <th>Res_tot</th>\n",
       "      <th>GHz</th>\n",
       "      <th>Ram_GB</th>\n",
       "      <th>Weight_Kg</th>\n",
       "      <th>TypeName_2 in 1 Convertible</th>\n",
       "      <th>TypeName_Gaming</th>\n",
       "      <th>TypeName_Netbook</th>\n",
       "      <th>TypeName_Notebook</th>\n",
       "      <th>TypeName_Ultrabook</th>\n",
       "      <th>TypeName_Workstation</th>\n",
       "      <th>Company_map_Dell</th>\n",
       "      <th>Company_map_HP</th>\n",
       "      <th>Company_map_Lenovo</th>\n",
       "      <th>Company_map_Resto</th>\n",
       "    </tr>\n",
       "  </thead>\n",
       "  <tbody>\n",
       "    <tr>\n",
       "      <th>0</th>\n",
       "      <td>2.809403</td>\n",
       "      <td>749.00</td>\n",
       "      <td>0.717395</td>\n",
       "      <td>1.308333</td>\n",
       "      <td>2.197225</td>\n",
       "      <td>1.211941</td>\n",
       "      <td>False</td>\n",
       "      <td>False</td>\n",
       "      <td>False</td>\n",
       "      <td>True</td>\n",
       "      <td>False</td>\n",
       "      <td>False</td>\n",
       "      <td>True</td>\n",
       "      <td>False</td>\n",
       "      <td>False</td>\n",
       "      <td>False</td>\n",
       "    </tr>\n",
       "    <tr>\n",
       "      <th>1</th>\n",
       "      <td>2.809403</td>\n",
       "      <td>449.00</td>\n",
       "      <td>0.717395</td>\n",
       "      <td>0.741937</td>\n",
       "      <td>1.609438</td>\n",
       "      <td>1.098612</td>\n",
       "      <td>False</td>\n",
       "      <td>False</td>\n",
       "      <td>False</td>\n",
       "      <td>True</td>\n",
       "      <td>False</td>\n",
       "      <td>False</td>\n",
       "      <td>False</td>\n",
       "      <td>False</td>\n",
       "      <td>False</td>\n",
       "      <td>True</td>\n",
       "    </tr>\n",
       "    <tr>\n",
       "      <th>2</th>\n",
       "      <td>2.660260</td>\n",
       "      <td>1460.00</td>\n",
       "      <td>1.122850</td>\n",
       "      <td>1.193922</td>\n",
       "      <td>2.197225</td>\n",
       "      <td>0.788457</td>\n",
       "      <td>False</td>\n",
       "      <td>False</td>\n",
       "      <td>False</td>\n",
       "      <td>True</td>\n",
       "      <td>False</td>\n",
       "      <td>False</td>\n",
       "      <td>False</td>\n",
       "      <td>False</td>\n",
       "      <td>False</td>\n",
       "      <td>True</td>\n",
       "    </tr>\n",
       "    <tr>\n",
       "      <th>3</th>\n",
       "      <td>2.809403</td>\n",
       "      <td>2868.99</td>\n",
       "      <td>2.229412</td>\n",
       "      <td>1.335001</td>\n",
       "      <td>2.833213</td>\n",
       "      <td>1.690096</td>\n",
       "      <td>False</td>\n",
       "      <td>True</td>\n",
       "      <td>False</td>\n",
       "      <td>False</td>\n",
       "      <td>False</td>\n",
       "      <td>False</td>\n",
       "      <td>True</td>\n",
       "      <td>False</td>\n",
       "      <td>False</td>\n",
       "      <td>False</td>\n",
       "    </tr>\n",
       "    <tr>\n",
       "      <th>4</th>\n",
       "      <td>2.602690</td>\n",
       "      <td>1713.37</td>\n",
       "      <td>1.122850</td>\n",
       "      <td>1.223775</td>\n",
       "      <td>2.197225</td>\n",
       "      <td>0.815365</td>\n",
       "      <td>False</td>\n",
       "      <td>False</td>\n",
       "      <td>False</td>\n",
       "      <td>False</td>\n",
       "      <td>True</td>\n",
       "      <td>False</td>\n",
       "      <td>True</td>\n",
       "      <td>False</td>\n",
       "      <td>False</td>\n",
       "      <td>False</td>\n",
       "    </tr>\n",
       "    <tr>\n",
       "      <th>...</th>\n",
       "      <td>...</td>\n",
       "      <td>...</td>\n",
       "      <td>...</td>\n",
       "      <td>...</td>\n",
       "      <td>...</td>\n",
       "      <td>...</td>\n",
       "      <td>...</td>\n",
       "      <td>...</td>\n",
       "      <td>...</td>\n",
       "      <td>...</td>\n",
       "      <td>...</td>\n",
       "      <td>...</td>\n",
       "      <td>...</td>\n",
       "      <td>...</td>\n",
       "      <td>...</td>\n",
       "      <td>...</td>\n",
       "    </tr>\n",
       "    <tr>\n",
       "      <th>907</th>\n",
       "      <td>2.533697</td>\n",
       "      <td>389.00</td>\n",
       "      <td>0.717395</td>\n",
       "      <td>0.955511</td>\n",
       "      <td>1.609438</td>\n",
       "      <td>0.810930</td>\n",
       "      <td>True</td>\n",
       "      <td>False</td>\n",
       "      <td>False</td>\n",
       "      <td>False</td>\n",
       "      <td>False</td>\n",
       "      <td>False</td>\n",
       "      <td>False</td>\n",
       "      <td>False</td>\n",
       "      <td>False</td>\n",
       "      <td>True</td>\n",
       "    </tr>\n",
       "    <tr>\n",
       "      <th>908</th>\n",
       "      <td>2.660260</td>\n",
       "      <td>1195.00</td>\n",
       "      <td>1.122850</td>\n",
       "      <td>1.193922</td>\n",
       "      <td>1.609438</td>\n",
       "      <td>0.788457</td>\n",
       "      <td>False</td>\n",
       "      <td>False</td>\n",
       "      <td>False</td>\n",
       "      <td>True</td>\n",
       "      <td>False</td>\n",
       "      <td>False</td>\n",
       "      <td>False</td>\n",
       "      <td>False</td>\n",
       "      <td>False</td>\n",
       "      <td>True</td>\n",
       "    </tr>\n",
       "    <tr>\n",
       "      <th>909</th>\n",
       "      <td>2.809403</td>\n",
       "      <td>449.00</td>\n",
       "      <td>0.717395</td>\n",
       "      <td>1.163151</td>\n",
       "      <td>2.197225</td>\n",
       "      <td>1.223775</td>\n",
       "      <td>False</td>\n",
       "      <td>False</td>\n",
       "      <td>False</td>\n",
       "      <td>True</td>\n",
       "      <td>False</td>\n",
       "      <td>False</td>\n",
       "      <td>False</td>\n",
       "      <td>False</td>\n",
       "      <td>False</td>\n",
       "      <td>True</td>\n",
       "    </tr>\n",
       "    <tr>\n",
       "      <th>910</th>\n",
       "      <td>2.708050</td>\n",
       "      <td>1775.00</td>\n",
       "      <td>1.122850</td>\n",
       "      <td>1.335001</td>\n",
       "      <td>2.197225</td>\n",
       "      <td>0.858662</td>\n",
       "      <td>False</td>\n",
       "      <td>False</td>\n",
       "      <td>False</td>\n",
       "      <td>False</td>\n",
       "      <td>True</td>\n",
       "      <td>False</td>\n",
       "      <td>True</td>\n",
       "      <td>False</td>\n",
       "      <td>False</td>\n",
       "      <td>False</td>\n",
       "    </tr>\n",
       "    <tr>\n",
       "      <th>911</th>\n",
       "      <td>2.809403</td>\n",
       "      <td>805.99</td>\n",
       "      <td>0.717395</td>\n",
       "      <td>1.308333</td>\n",
       "      <td>2.197225</td>\n",
       "      <td>1.193922</td>\n",
       "      <td>False</td>\n",
       "      <td>False</td>\n",
       "      <td>False</td>\n",
       "      <td>True</td>\n",
       "      <td>False</td>\n",
       "      <td>False</td>\n",
       "      <td>True</td>\n",
       "      <td>False</td>\n",
       "      <td>False</td>\n",
       "      <td>False</td>\n",
       "    </tr>\n",
       "  </tbody>\n",
       "</table>\n",
       "<p>912 rows × 16 columns</p>\n",
       "</div>"
      ],
      "text/plain": [
       "       Inches  Price_euros   Res_tot       GHz    Ram_GB  Weight_Kg  \\\n",
       "0    2.809403       749.00  0.717395  1.308333  2.197225   1.211941   \n",
       "1    2.809403       449.00  0.717395  0.741937  1.609438   1.098612   \n",
       "2    2.660260      1460.00  1.122850  1.193922  2.197225   0.788457   \n",
       "3    2.809403      2868.99  2.229412  1.335001  2.833213   1.690096   \n",
       "4    2.602690      1713.37  1.122850  1.223775  2.197225   0.815365   \n",
       "..        ...          ...       ...       ...       ...        ...   \n",
       "907  2.533697       389.00  0.717395  0.955511  1.609438   0.810930   \n",
       "908  2.660260      1195.00  1.122850  1.193922  1.609438   0.788457   \n",
       "909  2.809403       449.00  0.717395  1.163151  2.197225   1.223775   \n",
       "910  2.708050      1775.00  1.122850  1.335001  2.197225   0.858662   \n",
       "911  2.809403       805.99  0.717395  1.308333  2.197225   1.193922   \n",
       "\n",
       "     TypeName_2 in 1 Convertible  TypeName_Gaming  TypeName_Netbook  \\\n",
       "0                          False            False             False   \n",
       "1                          False            False             False   \n",
       "2                          False            False             False   \n",
       "3                          False             True             False   \n",
       "4                          False            False             False   \n",
       "..                           ...              ...               ...   \n",
       "907                         True            False             False   \n",
       "908                        False            False             False   \n",
       "909                        False            False             False   \n",
       "910                        False            False             False   \n",
       "911                        False            False             False   \n",
       "\n",
       "     TypeName_Notebook  TypeName_Ultrabook  TypeName_Workstation  \\\n",
       "0                 True               False                 False   \n",
       "1                 True               False                 False   \n",
       "2                 True               False                 False   \n",
       "3                False               False                 False   \n",
       "4                False                True                 False   \n",
       "..                 ...                 ...                   ...   \n",
       "907              False               False                 False   \n",
       "908               True               False                 False   \n",
       "909               True               False                 False   \n",
       "910              False                True                 False   \n",
       "911               True               False                 False   \n",
       "\n",
       "     Company_map_Dell  Company_map_HP  Company_map_Lenovo  Company_map_Resto  \n",
       "0                True           False               False              False  \n",
       "1               False           False               False               True  \n",
       "2               False           False               False               True  \n",
       "3                True           False               False              False  \n",
       "4                True           False               False              False  \n",
       "..                ...             ...                 ...                ...  \n",
       "907             False           False               False               True  \n",
       "908             False           False               False               True  \n",
       "909             False           False               False               True  \n",
       "910              True           False               False              False  \n",
       "911              True           False               False              False  \n",
       "\n",
       "[912 rows x 16 columns]"
      ]
     },
     "execution_count": 48,
     "metadata": {},
     "output_type": "execute_result"
    }
   ],
   "source": [
    "train  = pd.get_dummies(train, columns=feat_cat)\n",
    "train"
   ]
  },
  {
   "cell_type": "markdown",
   "metadata": {},
   "source": [
    "-----------------------------------------------------------------------------------------------------------------"
   ]
  },
  {
   "cell_type": "markdown",
   "metadata": {},
   "source": [
    "## Pasos que si o si debéis realizar para poder participar en la competición:"
   ]
  },
  {
   "cell_type": "markdown",
   "metadata": {},
   "source": [
    "### 1. Definir X e y"
   ]
  },
  {
   "cell_type": "code",
   "execution_count": 49,
   "metadata": {},
   "outputs": [],
   "source": [
    "train_set, test_set = train_test_split(train, test_size = 0.2, random_state= 42)"
   ]
  },
  {
   "cell_type": "markdown",
   "metadata": {},
   "source": [
    "### 2. Dividir X_train, X_test, y_train, y_test"
   ]
  },
  {
   "cell_type": "code",
   "execution_count": 50,
   "metadata": {},
   "outputs": [],
   "source": [
    "X_train = train_set.drop(columns=target)\n",
    "y_train = train_set[target]\n",
    "X_test = test_set.drop(columns=target)\n",
    "y_test = test_set[target]"
   ]
  },
  {
   "cell_type": "code",
   "execution_count": 51,
   "metadata": {},
   "outputs": [],
   "source": [
    "scaler = StandardScaler()\n",
    "X_train[feat_num] = scaler.fit_transform(X_train[feat_num])\n",
    "X_test[feat_num] = scaler.transform(X_test[feat_num])"
   ]
  },
  {
   "cell_type": "code",
   "execution_count": 56,
   "metadata": {},
   "outputs": [],
   "source": [
    "model_names = [\"Reg. Lineal\", \"Random Forest\",\"XGBoost\",\"LightGBM\",\"CatBoost\"]\n",
    "\n",
    "lr_reg = LinearRegression()\n",
    "rf_reg = RandomForestRegressor(max_depth=5, random_state= 42)\n",
    "xgb_reg = XGBRegressor(max_depth=5, random_state = 42)\n",
    "lgb_reg  = LGBMRegressor(max_depth=5, random_state= 42, verbose = -100)\n",
    "cat_reg  = CatBoostRegressor(max_depth=5, random_state= 42, verbose = False)\n",
    "\n",
    "model_set = [lr_reg, rf_reg, xgb_reg, lgb_reg, cat_reg]"
   ]
  },
  {
   "cell_type": "code",
   "execution_count": 57,
   "metadata": {},
   "outputs": [
    {
     "name": "stdout",
     "output_type": "stream",
     "text": [
      "Para Reg. Lineal: -299.04145927044385\n",
      "Para Random Forest: -241.75842596945608\n",
      "Para XGBoost: -210.5240387449644\n",
      "Para LightGBM: -228.30795662077995\n",
      "Para CatBoost: -206.99057039322284\n",
      "And the winner is: CatBoost con una metrica de -206.99057039322284\n"
     ]
    }
   ],
   "source": [
    "metricas_cv = {}\n",
    "valores = []\n",
    "for nombre,modelo in zip(model_names, model_set):\n",
    "    print(f\"Para {nombre}:\", end = \" \")\n",
    "    metrica = cross_val_score(modelo, X_train, y_train, cv = 5, scoring = \"neg_mean_absolute_error\")\n",
    "    print(np.mean(metrica))\n",
    "    metricas_cv[nombre] = metrica\n",
    "    valores.append(np.mean(metricas_cv[nombre]))\n",
    "ganador = list(metricas_cv.keys())[np.argmax(valores)]\n",
    "print(f\"And the winner is: {ganador} con una metrica de {np.mean(metricas_cv[ganador])}\")"
   ]
  },
  {
   "cell_type": "code",
   "execution_count": 58,
   "metadata": {},
   "outputs": [
    {
     "name": "stdout",
     "output_type": "stream",
     "text": [
      "XGB best_score: -210.5240387449644\n"
     ]
    }
   ],
   "source": [
    "xgb_reg = XGBRegressor()\n",
    "\n",
    "param_grid = {\n",
    "    \"n_estimators\": [100,200,1000],\n",
    "    \"max_depth\": [1,5,10,20],\n",
    "    }\n",
    "\n",
    "xgb_grid = GridSearchCV(xgb_reg, \n",
    "                        cv = 5,\n",
    "                        #n_iter = 20,\n",
    "                        param_grid= param_grid, \n",
    "                        scoring = \"neg_mean_absolute_error\")\n",
    "\n",
    "\n",
    "xgb_grid.fit(X_train, y_train)\n",
    "print(\"XGB best_score:\", xgb_grid.best_score_)"
   ]
  },
  {
   "cell_type": "code",
   "execution_count": 62,
   "metadata": {},
   "outputs": [
    {
     "name": "stdout",
     "output_type": "stream",
     "text": [
      "MAE:  204.58\n",
      "R^2:  0.718\n"
     ]
    }
   ],
   "source": [
    "predictions = xgb_grid.best_estimator_.predict(X_test)\n",
    "print('MAE: ', round(metrics.mean_absolute_error(y_test, predictions), 3))\n",
    "print('R^2: ', round(metrics.r2_score(y_test, predictions), 3))"
   ]
  },
  {
   "cell_type": "markdown",
   "metadata": {},
   "source": [
    "### 3. Crear y entrenar el modelo\n"
   ]
  },
  {
   "cell_type": "markdown",
   "metadata": {},
   "source": [
    "### 4. Sacar métricas, valorar el modelo \n",
    "\n",
    "Recuerda que en la competición se va a evaluar con la métrica de MAE."
   ]
  },
  {
   "cell_type": "markdown",
   "metadata": {},
   "source": [
    "-----------------------------------------------------------------"
   ]
  },
  {
   "cell_type": "markdown",
   "metadata": {},
   "source": [
    "## Una vez listo el modelo, toca predecir con el dataset de predicción "
   ]
  },
  {
   "cell_type": "markdown",
   "metadata": {},
   "source": [
    "Definición de **modelo que está listo**. \n",
    "\n",
    "Tras hacer suficientes pruebas, analizar los datos, hacer feature engineering, probar diferentes modelos con diferentes parámetros, es con este con el que observo mejores métricas y menos overfitting. ¡Cuidado con el overfitting aquí! Si vuestro modelo aprende muy bien de estos datos pero hay overfitting cuando le pasemos los datos desconocidos de `test.csv` nos arriesgamos a que digamos, no salga lo esperado."
   ]
  },
  {
   "cell_type": "markdown",
   "metadata": {},
   "source": [
    "### 1. Entrena dicho modelo con TODOS tus datos de train, esto es con `train.csv` al completo.\n",
    "\n",
    "\n",
    "**CON LAS TRANSFORMACIONES QUE LE HAYAS REALIZADO A `X` INCLUÍDAS.**\n",
    "\n",
    "\n",
    "Véase:\n",
    "- Estandarización/Normalización\n",
    "- Eliminación de Outliers\n",
    "- Eliminación de columnas\n",
    "- Creación de columnas nuevas\n",
    "- Gestión de valores nulos\n",
    "- Y un largo etcétera de técnicas que como Data Scientist hayas considerado las mejores para tu dataset."
   ]
  },
  {
   "cell_type": "code",
   "execution_count": 64,
   "metadata": {},
   "outputs": [
    {
     "data": {
      "text/html": [
       "<div>\n",
       "<style scoped>\n",
       "    .dataframe tbody tr th:only-of-type {\n",
       "        vertical-align: middle;\n",
       "    }\n",
       "\n",
       "    .dataframe tbody tr th {\n",
       "        vertical-align: top;\n",
       "    }\n",
       "\n",
       "    .dataframe thead th {\n",
       "        text-align: right;\n",
       "    }\n",
       "</style>\n",
       "<table border=\"1\" class=\"dataframe\">\n",
       "  <thead>\n",
       "    <tr style=\"text-align: right;\">\n",
       "      <th></th>\n",
       "      <th>Inches</th>\n",
       "      <th>Res_tot</th>\n",
       "      <th>GHz</th>\n",
       "      <th>Ram_GB</th>\n",
       "      <th>Weight_Kg</th>\n",
       "      <th>TypeName_2 in 1 Convertible</th>\n",
       "      <th>TypeName_Gaming</th>\n",
       "      <th>TypeName_Netbook</th>\n",
       "      <th>TypeName_Notebook</th>\n",
       "      <th>TypeName_Ultrabook</th>\n",
       "      <th>TypeName_Workstation</th>\n",
       "      <th>Company_map_Dell</th>\n",
       "      <th>Company_map_HP</th>\n",
       "      <th>Company_map_Lenovo</th>\n",
       "      <th>Company_map_Resto</th>\n",
       "    </tr>\n",
       "  </thead>\n",
       "  <tbody>\n",
       "    <tr>\n",
       "      <th>0</th>\n",
       "      <td>2.660260</td>\n",
       "      <td>2.229412</td>\n",
       "      <td>1.308333</td>\n",
       "      <td>2.833213</td>\n",
       "      <td>0.832909</td>\n",
       "      <td>False</td>\n",
       "      <td>False</td>\n",
       "      <td>False</td>\n",
       "      <td>False</td>\n",
       "      <td>True</td>\n",
       "      <td>False</td>\n",
       "      <td>False</td>\n",
       "      <td>True</td>\n",
       "      <td>False</td>\n",
       "      <td>False</td>\n",
       "    </tr>\n",
       "    <tr>\n",
       "      <th>1</th>\n",
       "      <td>2.809403</td>\n",
       "      <td>0.717395</td>\n",
       "      <td>1.308333</td>\n",
       "      <td>2.197225</td>\n",
       "      <td>1.163151</td>\n",
       "      <td>False</td>\n",
       "      <td>False</td>\n",
       "      <td>False</td>\n",
       "      <td>True</td>\n",
       "      <td>False</td>\n",
       "      <td>False</td>\n",
       "      <td>False</td>\n",
       "      <td>False</td>\n",
       "      <td>False</td>\n",
       "      <td>True</td>\n",
       "    </tr>\n",
       "    <tr>\n",
       "      <th>2</th>\n",
       "      <td>2.809403</td>\n",
       "      <td>0.717395</td>\n",
       "      <td>1.098612</td>\n",
       "      <td>1.609438</td>\n",
       "      <td>1.223775</td>\n",
       "      <td>False</td>\n",
       "      <td>False</td>\n",
       "      <td>False</td>\n",
       "      <td>True</td>\n",
       "      <td>False</td>\n",
       "      <td>False</td>\n",
       "      <td>False</td>\n",
       "      <td>False</td>\n",
       "      <td>False</td>\n",
       "      <td>True</td>\n",
       "    </tr>\n",
       "    <tr>\n",
       "      <th>3</th>\n",
       "      <td>2.708050</td>\n",
       "      <td>1.122850</td>\n",
       "      <td>1.193922</td>\n",
       "      <td>2.197225</td>\n",
       "      <td>0.887891</td>\n",
       "      <td>False</td>\n",
       "      <td>False</td>\n",
       "      <td>False</td>\n",
       "      <td>True</td>\n",
       "      <td>False</td>\n",
       "      <td>False</td>\n",
       "      <td>False</td>\n",
       "      <td>True</td>\n",
       "      <td>False</td>\n",
       "      <td>False</td>\n",
       "    </tr>\n",
       "    <tr>\n",
       "      <th>4</th>\n",
       "      <td>2.660260</td>\n",
       "      <td>1.122850</td>\n",
       "      <td>1.252763</td>\n",
       "      <td>2.197225</td>\n",
       "      <td>0.850151</td>\n",
       "      <td>False</td>\n",
       "      <td>False</td>\n",
       "      <td>False</td>\n",
       "      <td>True</td>\n",
       "      <td>False</td>\n",
       "      <td>False</td>\n",
       "      <td>False</td>\n",
       "      <td>True</td>\n",
       "      <td>False</td>\n",
       "      <td>False</td>\n",
       "    </tr>\n",
       "    <tr>\n",
       "      <th>...</th>\n",
       "      <td>...</td>\n",
       "      <td>...</td>\n",
       "      <td>...</td>\n",
       "      <td>...</td>\n",
       "      <td>...</td>\n",
       "      <td>...</td>\n",
       "      <td>...</td>\n",
       "      <td>...</td>\n",
       "      <td>...</td>\n",
       "      <td>...</td>\n",
       "      <td>...</td>\n",
       "      <td>...</td>\n",
       "      <td>...</td>\n",
       "      <td>...</td>\n",
       "      <td>...</td>\n",
       "    </tr>\n",
       "    <tr>\n",
       "      <th>386</th>\n",
       "      <td>2.809403</td>\n",
       "      <td>1.122850</td>\n",
       "      <td>1.335001</td>\n",
       "      <td>2.197225</td>\n",
       "      <td>1.223775</td>\n",
       "      <td>False</td>\n",
       "      <td>True</td>\n",
       "      <td>False</td>\n",
       "      <td>False</td>\n",
       "      <td>False</td>\n",
       "      <td>False</td>\n",
       "      <td>False</td>\n",
       "      <td>False</td>\n",
       "      <td>True</td>\n",
       "      <td>False</td>\n",
       "    </tr>\n",
       "    <tr>\n",
       "      <th>387</th>\n",
       "      <td>2.809403</td>\n",
       "      <td>1.122850</td>\n",
       "      <td>1.280934</td>\n",
       "      <td>2.833213</td>\n",
       "      <td>1.460938</td>\n",
       "      <td>False</td>\n",
       "      <td>True</td>\n",
       "      <td>False</td>\n",
       "      <td>False</td>\n",
       "      <td>False</td>\n",
       "      <td>False</td>\n",
       "      <td>False</td>\n",
       "      <td>False</td>\n",
       "      <td>True</td>\n",
       "      <td>False</td>\n",
       "    </tr>\n",
       "    <tr>\n",
       "      <th>388</th>\n",
       "      <td>2.809403</td>\n",
       "      <td>0.717395</td>\n",
       "      <td>1.252763</td>\n",
       "      <td>1.609438</td>\n",
       "      <td>1.085189</td>\n",
       "      <td>False</td>\n",
       "      <td>False</td>\n",
       "      <td>False</td>\n",
       "      <td>True</td>\n",
       "      <td>False</td>\n",
       "      <td>False</td>\n",
       "      <td>False</td>\n",
       "      <td>True</td>\n",
       "      <td>False</td>\n",
       "      <td>False</td>\n",
       "    </tr>\n",
       "    <tr>\n",
       "      <th>389</th>\n",
       "      <td>2.809403</td>\n",
       "      <td>1.122850</td>\n",
       "      <td>0.916291</td>\n",
       "      <td>1.609438</td>\n",
       "      <td>1.131402</td>\n",
       "      <td>False</td>\n",
       "      <td>False</td>\n",
       "      <td>False</td>\n",
       "      <td>True</td>\n",
       "      <td>False</td>\n",
       "      <td>False</td>\n",
       "      <td>False</td>\n",
       "      <td>True</td>\n",
       "      <td>False</td>\n",
       "      <td>False</td>\n",
       "    </tr>\n",
       "    <tr>\n",
       "      <th>390</th>\n",
       "      <td>2.701361</td>\n",
       "      <td>1.122850</td>\n",
       "      <td>1.029619</td>\n",
       "      <td>2.197225</td>\n",
       "      <td>0.862890</td>\n",
       "      <td>True</td>\n",
       "      <td>False</td>\n",
       "      <td>False</td>\n",
       "      <td>False</td>\n",
       "      <td>False</td>\n",
       "      <td>False</td>\n",
       "      <td>False</td>\n",
       "      <td>False</td>\n",
       "      <td>True</td>\n",
       "      <td>False</td>\n",
       "    </tr>\n",
       "  </tbody>\n",
       "</table>\n",
       "<p>391 rows × 15 columns</p>\n",
       "</div>"
      ],
      "text/plain": [
       "       Inches   Res_tot       GHz    Ram_GB  Weight_Kg  \\\n",
       "0    2.660260  2.229412  1.308333  2.833213   0.832909   \n",
       "1    2.809403  0.717395  1.308333  2.197225   1.163151   \n",
       "2    2.809403  0.717395  1.098612  1.609438   1.223775   \n",
       "3    2.708050  1.122850  1.193922  2.197225   0.887891   \n",
       "4    2.660260  1.122850  1.252763  2.197225   0.850151   \n",
       "..        ...       ...       ...       ...        ...   \n",
       "386  2.809403  1.122850  1.335001  2.197225   1.223775   \n",
       "387  2.809403  1.122850  1.280934  2.833213   1.460938   \n",
       "388  2.809403  0.717395  1.252763  1.609438   1.085189   \n",
       "389  2.809403  1.122850  0.916291  1.609438   1.131402   \n",
       "390  2.701361  1.122850  1.029619  2.197225   0.862890   \n",
       "\n",
       "     TypeName_2 in 1 Convertible  TypeName_Gaming  TypeName_Netbook  \\\n",
       "0                          False            False             False   \n",
       "1                          False            False             False   \n",
       "2                          False            False             False   \n",
       "3                          False            False             False   \n",
       "4                          False            False             False   \n",
       "..                           ...              ...               ...   \n",
       "386                        False             True             False   \n",
       "387                        False             True             False   \n",
       "388                        False            False             False   \n",
       "389                        False            False             False   \n",
       "390                         True            False             False   \n",
       "\n",
       "     TypeName_Notebook  TypeName_Ultrabook  TypeName_Workstation  \\\n",
       "0                False                True                 False   \n",
       "1                 True               False                 False   \n",
       "2                 True               False                 False   \n",
       "3                 True               False                 False   \n",
       "4                 True               False                 False   \n",
       "..                 ...                 ...                   ...   \n",
       "386              False               False                 False   \n",
       "387              False               False                 False   \n",
       "388               True               False                 False   \n",
       "389               True               False                 False   \n",
       "390              False               False                 False   \n",
       "\n",
       "     Company_map_Dell  Company_map_HP  Company_map_Lenovo  Company_map_Resto  \n",
       "0               False            True               False              False  \n",
       "1               False           False               False               True  \n",
       "2               False           False               False               True  \n",
       "3               False            True               False              False  \n",
       "4               False            True               False              False  \n",
       "..                ...             ...                 ...                ...  \n",
       "386             False           False                True              False  \n",
       "387             False           False                True              False  \n",
       "388             False            True               False              False  \n",
       "389             False            True               False              False  \n",
       "390             False           False                True              False  \n",
       "\n",
       "[391 rows x 15 columns]"
      ]
     },
     "execution_count": 64,
     "metadata": {},
     "output_type": "execute_result"
    }
   ],
   "source": [
    "test = pd.read_csv(\"./data/test_tratado_v02.csv\")\n",
    "test = test.drop(columns=\"Unnamed: 0\")\n",
    "test"
   ]
  },
  {
   "cell_type": "code",
   "execution_count": 65,
   "metadata": {},
   "outputs": [],
   "source": [
    "X_train_tot = train.drop(columns=target)\n",
    "y_train_tot = train[target]"
   ]
  },
  {
   "cell_type": "code",
   "execution_count": 66,
   "metadata": {},
   "outputs": [],
   "source": [
    "scaler = StandardScaler()\n",
    "X_train_tot[feat_num] = scaler.fit_transform(X_train_tot[feat_num])\n",
    "test[feat_num] = scaler.transform(test[feat_num])"
   ]
  },
  {
   "cell_type": "code",
   "execution_count": 67,
   "metadata": {},
   "outputs": [
    {
     "name": "stdout",
     "output_type": "stream",
     "text": [
      "XGB best_score: -217.54390856039672\n"
     ]
    }
   ],
   "source": [
    "xgb_reg = XGBRegressor()\n",
    "\n",
    "param_grid = {\n",
    "    \"n_estimators\": [100,200,1000],\n",
    "    \"max_depth\": [1,5,10,20],\n",
    "    }\n",
    "\n",
    "xgb_grid = GridSearchCV(xgb_reg, \n",
    "                        cv = 5,\n",
    "                        #n_iter = 20,\n",
    "                        param_grid= param_grid, \n",
    "                        scoring = \"neg_mean_absolute_error\")\n",
    "\n",
    "\n",
    "xgb_grid.fit(X_train_tot, y_train_tot)\n",
    "print(\"XGB best_score:\", xgb_grid.best_score_)"
   ]
  },
  {
   "cell_type": "code",
   "execution_count": 68,
   "metadata": {},
   "outputs": [],
   "source": [
    "predictions = xgb_grid.best_estimator_.predict(test)"
   ]
  },
  {
   "cell_type": "code",
   "execution_count": 69,
   "metadata": {},
   "outputs": [
    {
     "data": {
      "text/html": [
       "<div>\n",
       "<style scoped>\n",
       "    .dataframe tbody tr th:only-of-type {\n",
       "        vertical-align: middle;\n",
       "    }\n",
       "\n",
       "    .dataframe tbody tr th {\n",
       "        vertical-align: top;\n",
       "    }\n",
       "\n",
       "    .dataframe thead th {\n",
       "        text-align: right;\n",
       "    }\n",
       "</style>\n",
       "<table border=\"1\" class=\"dataframe\">\n",
       "  <thead>\n",
       "    <tr style=\"text-align: right;\">\n",
       "      <th></th>\n",
       "      <th>id</th>\n",
       "      <th>Price_euros</th>\n",
       "    </tr>\n",
       "  </thead>\n",
       "  <tbody>\n",
       "    <tr>\n",
       "      <th>0</th>\n",
       "      <td>181</td>\n",
       "      <td>2036.615356</td>\n",
       "    </tr>\n",
       "    <tr>\n",
       "      <th>1</th>\n",
       "      <td>708</td>\n",
       "      <td>726.982971</td>\n",
       "    </tr>\n",
       "    <tr>\n",
       "      <th>2</th>\n",
       "      <td>862</td>\n",
       "      <td>382.896118</td>\n",
       "    </tr>\n",
       "    <tr>\n",
       "      <th>3</th>\n",
       "      <td>1064</td>\n",
       "      <td>1379.598755</td>\n",
       "    </tr>\n",
       "    <tr>\n",
       "      <th>4</th>\n",
       "      <td>702</td>\n",
       "      <td>1205.721191</td>\n",
       "    </tr>\n",
       "    <tr>\n",
       "      <th>...</th>\n",
       "      <td>...</td>\n",
       "      <td>...</td>\n",
       "    </tr>\n",
       "    <tr>\n",
       "      <th>386</th>\n",
       "      <td>1281</td>\n",
       "      <td>1100.703613</td>\n",
       "    </tr>\n",
       "    <tr>\n",
       "      <th>387</th>\n",
       "      <td>524</td>\n",
       "      <td>1823.271362</td>\n",
       "    </tr>\n",
       "    <tr>\n",
       "      <th>388</th>\n",
       "      <td>1015</td>\n",
       "      <td>619.832947</td>\n",
       "    </tr>\n",
       "    <tr>\n",
       "      <th>389</th>\n",
       "      <td>1236</td>\n",
       "      <td>403.540802</td>\n",
       "    </tr>\n",
       "    <tr>\n",
       "      <th>390</th>\n",
       "      <td>1036</td>\n",
       "      <td>1444.682861</td>\n",
       "    </tr>\n",
       "  </tbody>\n",
       "</table>\n",
       "<p>391 rows × 2 columns</p>\n",
       "</div>"
      ],
      "text/plain": [
       "       id  Price_euros\n",
       "0     181  2036.615356\n",
       "1     708   726.982971\n",
       "2     862   382.896118\n",
       "3    1064  1379.598755\n",
       "4     702  1205.721191\n",
       "..    ...          ...\n",
       "386  1281  1100.703613\n",
       "387   524  1823.271362\n",
       "388  1015   619.832947\n",
       "389  1236   403.540802\n",
       "390  1036  1444.682861\n",
       "\n",
       "[391 rows x 2 columns]"
      ]
     },
     "execution_count": 69,
     "metadata": {},
     "output_type": "execute_result"
    }
   ],
   "source": [
    "test_original = pd.read_csv(\"./data/test.csv\")\n",
    "df_pred = pd.DataFrame(test_original[\"id\"])\n",
    "df_pred[\"Price_euros\"] = predictions\n",
    "df_pred"
   ]
  },
  {
   "cell_type": "code",
   "execution_count": 70,
   "metadata": {},
   "outputs": [],
   "source": [
    "df_pred.to_csv(\"submission_02.csv\", index = False)"
   ]
  },
  {
   "cell_type": "code",
   "execution_count": null,
   "metadata": {},
   "outputs": [],
   "source": []
  },
  {
   "cell_type": "code",
   "execution_count": null,
   "metadata": {},
   "outputs": [],
   "source": []
  },
  {
   "cell_type": "code",
   "execution_count": null,
   "metadata": {},
   "outputs": [],
   "source": []
  },
  {
   "cell_type": "markdown",
   "metadata": {},
   "source": [
    "### 2. Carga los datos de `test.csv` para predecir."
   ]
  },
  {
   "cell_type": "markdown",
   "metadata": {},
   "source": [
    "**¿Por qué puede dar error?** "
   ]
  },
  {
   "cell_type": "markdown",
   "metadata": {},
   "source": [
    "IMPORTANTE: APLICAR A ESTOS DATOS LO MISMO QUE HAYÁIS APLICADO A LOS DATOS DE ENTRENAMIENTO\n",
    "\n",
    "- SI EL ARRAY CON EL QUE HICISTEIS `.fit()` ERA DE 4 COLUMNAS, PARA `.predict()` DEBEN SER LAS MISMAS\n",
    "- SI AL ARRAY CON EL QUE HICISTEIS `.fit()` LO NORMALIZASTEIS, PARA `.predict()` DEBÉIS NORMALIZARLO\n",
    "- TODO IGUAL SALVO BORRAR FILAS, EL NÚMERO DE ROWS SE DEBE MANTENER EN ESTE SET, PUES LA PREDICCIÓN DEBE TENER 391 FILAS, SI O SI"
   ]
  },
  {
   "cell_type": "markdown",
   "metadata": {},
   "source": [
    "**Entonces, si al cargar los datos de train usé `index_col=0` para que utilizara la primera columna del conjunto de datos como índice, ¿tendré que hacerlo también para el conjunto `test.csv`?**"
   ]
  },
  {
   "cell_type": "code",
   "execution_count": null,
   "metadata": {},
   "outputs": [],
   "source": [
    "# ¿Qué opináis?\n",
    "# Sí"
   ]
  },
  {
   "cell_type": "markdown",
   "metadata": {},
   "source": [
    "![](https://www.tierraljelechu.com/web/img/wiki_up/1.996-SorpresaDto.-1-Red.jpg)"
   ]
  },
  {
   "cell_type": "code",
   "execution_count": null,
   "metadata": {},
   "outputs": [],
   "source": []
  },
  {
   "cell_type": "markdown",
   "metadata": {},
   "source": [
    "### 3. AHORA puedo hacer la predicción que será lo que subirás a Kaggle. "
   ]
  },
  {
   "cell_type": "markdown",
   "metadata": {},
   "source": [
    "**¿Qué es lo que subirás a Kaggle?**"
   ]
  },
  {
   "cell_type": "code",
   "execution_count": null,
   "metadata": {},
   "outputs": [],
   "source": [
    "predictions = model.predict(X_pred)\n",
    "predictions"
   ]
  },
  {
   "cell_type": "markdown",
   "metadata": {},
   "source": [
    "**¡PERO! Para subir a Kaggle la predicción, ésta tendrá que tener una forma específica y no valdrá otra.**\n",
    "\n",
    "En este caso, la **MISMA** forma que `sample_submission.csv`. "
   ]
  },
  {
   "cell_type": "code",
   "execution_count": 244,
   "metadata": {},
   "outputs": [],
   "source": [
    "sample = pd.read_csv(\"./data/sample_submission.csv\") # Esta es mi ruta del archivo, la vuestra puede ser otra"
   ]
  },
  {
   "cell_type": "code",
   "execution_count": 245,
   "metadata": {},
   "outputs": [
    {
     "data": {
      "text/html": [
       "<div>\n",
       "<style scoped>\n",
       "    .dataframe tbody tr th:only-of-type {\n",
       "        vertical-align: middle;\n",
       "    }\n",
       "\n",
       "    .dataframe tbody tr th {\n",
       "        vertical-align: top;\n",
       "    }\n",
       "\n",
       "    .dataframe thead th {\n",
       "        text-align: right;\n",
       "    }\n",
       "</style>\n",
       "<table border=\"1\" class=\"dataframe\">\n",
       "  <thead>\n",
       "    <tr style=\"text-align: right;\">\n",
       "      <th></th>\n",
       "      <th>id</th>\n",
       "      <th>Price_euros</th>\n",
       "    </tr>\n",
       "  </thead>\n",
       "  <tbody>\n",
       "    <tr>\n",
       "      <th>0</th>\n",
       "      <td>1014</td>\n",
       "      <td>752.0</td>\n",
       "    </tr>\n",
       "    <tr>\n",
       "      <th>1</th>\n",
       "      <td>845</td>\n",
       "      <td>499.0</td>\n",
       "    </tr>\n",
       "    <tr>\n",
       "      <th>2</th>\n",
       "      <td>1151</td>\n",
       "      <td>1747.0</td>\n",
       "    </tr>\n",
       "    <tr>\n",
       "      <th>3</th>\n",
       "      <td>1265</td>\n",
       "      <td>245.0</td>\n",
       "    </tr>\n",
       "    <tr>\n",
       "      <th>4</th>\n",
       "      <td>573</td>\n",
       "      <td>1179.0</td>\n",
       "    </tr>\n",
       "  </tbody>\n",
       "</table>\n",
       "</div>"
      ],
      "text/plain": [
       "     id  Price_euros\n",
       "0  1014        752.0\n",
       "1   845        499.0\n",
       "2  1151       1747.0\n",
       "3  1265        245.0\n",
       "4   573       1179.0"
      ]
     },
     "execution_count": 245,
     "metadata": {},
     "output_type": "execute_result"
    }
   ],
   "source": [
    "sample.head()"
   ]
  },
  {
   "cell_type": "code",
   "execution_count": 246,
   "metadata": {},
   "outputs": [
    {
     "data": {
      "text/plain": [
       "(391, 2)"
      ]
     },
     "execution_count": 246,
     "metadata": {},
     "output_type": "execute_result"
    }
   ],
   "source": [
    "sample.shape"
   ]
  },
  {
   "cell_type": "markdown",
   "metadata": {},
   "source": [
    "### 4. Mete tus predicciones en un dataframe. \n",
    "\n",
    "En este caso, la **MISMA** forma que `sample_submission.csv`. "
   ]
  },
  {
   "cell_type": "markdown",
   "metadata": {},
   "source": [
    "### 5. Pásale el CHEQUEATOR para comprobar que efectivamente está listo para subir a Kaggle."
   ]
  },
  {
   "cell_type": "code",
   "execution_count": 258,
   "metadata": {},
   "outputs": [],
   "source": [
    "def chequeator(df_to_submit):\n",
    "    \"\"\"\n",
    "    Esta función se asegura de que tu submission tenga la forma requerida por Kaggle.\n",
    "    \n",
    "    Si es así, se guardará el dataframe en un `csv` y estará listo para subir a Kaggle.\n",
    "    \n",
    "    Si no, LEE EL MENSAJE Y HAZLE CASO.\n",
    "    \n",
    "    Si aún no:\n",
    "    - apaga tu ordenador, \n",
    "    - date una vuelta, \n",
    "    - enciendelo otra vez, \n",
    "    - abre este notebook y \n",
    "    - leelo todo de nuevo. \n",
    "    Todos nos merecemos una segunda oportunidad. También tú.\n",
    "    \"\"\"\n",
    "    if df_to_submit.shape == sample.shape:\n",
    "        if df_to_submit.columns.all() == sample.columns.all():\n",
    "            if df_to_submit.id.all() == sample.id.all():\n",
    "                print(\"You're ready to submit!\")\n",
    "                df_to_submit.to_csv(\"submission.csv\", index = False) #muy importante el index = False\n",
    "                urllib.request.urlretrieve(\"https://i.kym-cdn.com/photos/images/facebook/000/747/556/27a.jpg\", \"gfg.png\")     \n",
    "                img = Image.open(\"gfg.png\")\n",
    "                img.show()   \n",
    "            else:\n",
    "                print(\"Check the ids and try again\")\n",
    "        else:\n",
    "            print(\"Check the names of the columns and try again\")\n",
    "    else:\n",
    "        print(\"Check the number of rows and/or columns and try again\")\n",
    "        print(\"\")\n"
   ]
  },
  {
   "cell_type": "code",
   "execution_count": null,
   "metadata": {},
   "outputs": [],
   "source": [
    "chequeator(df_pred) # submission es el nombre que le habríamos puesto a nuestro .csv con los valores que me salieron en la predicción"
   ]
  },
  {
   "cell_type": "code",
   "execution_count": null,
   "metadata": {},
   "outputs": [],
   "source": []
  }
 ],
 "metadata": {
  "kernelspec": {
   "display_name": "Python 3.7.4 64-bit",
   "language": "python",
   "name": "python3"
  },
  "language_info": {
   "codemirror_mode": {
    "name": "ipython",
    "version": 3
   },
   "file_extension": ".py",
   "mimetype": "text/x-python",
   "name": "python",
   "nbconvert_exporter": "python",
   "pygments_lexer": "ipython3",
   "version": "3.10.11"
  },
  "vscode": {
   "interpreter": {
    "hash": "c0e4a4af33acb5d51fe8962d9e2e7588108ae49a894b6d1e35c2101e79360239"
   }
  }
 },
 "nbformat": 4,
 "nbformat_minor": 4
}
