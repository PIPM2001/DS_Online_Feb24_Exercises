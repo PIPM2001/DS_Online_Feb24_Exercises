{
 "cells": [
  {
   "cell_type": "markdown",
   "metadata": {},
   "source": [
    "#### Aquí encontrarás todo lo que necesitas saber: https://www.kaggle.com/competitions/desafio-de-prediccion-de-precios-de-portatiles"
   ]
  },
  {
   "cell_type": "markdown",
   "metadata": {},
   "source": [
    "## Librerias"
   ]
  },
  {
   "cell_type": "code",
   "execution_count": 20,
   "metadata": {},
   "outputs": [],
   "source": [
    "import Toolbox_ML as tlb\n",
    "import bootcampviztools as bt\n",
    "import pandas as pd\n",
    "import numpy as np\n",
    "import matplotlib.pyplot as plt\n",
    "import seaborn as sns\n",
    "import re\n",
    "\n",
    "from sklearn.model_selection import cross_val_score, train_test_split, GridSearchCV\n",
    "from sklearn.metrics import mean_squared_error, r2_score, mean_absolute_error\n",
    "\n",
    "from sklearn.linear_model import LinearRegression\n",
    "from sklearn.linear_model import Ridge\n",
    "from sklearn.linear_model import Lasso\n",
    "from sklearn.linear_model import ElasticNet\n",
    "from sklearn.svm import SVR\n",
    "from sklearn.tree import DecisionTreeRegressor\n",
    "from sklearn.ensemble import RandomForestRegressor\n",
    "from sklearn.ensemble import GradientBoostingRegressor\n",
    "from xgboost import XGBRegressor\n",
    "from lightgbm import LGBMRegressor\n",
    "\n"
   ]
  },
  {
   "cell_type": "markdown",
   "metadata": {},
   "source": [
    "## Data"
   ]
  },
  {
   "cell_type": "code",
   "execution_count": 21,
   "metadata": {},
   "outputs": [
    {
     "data": {
      "text/html": [
       "<div>\n",
       "<style scoped>\n",
       "    .dataframe tbody tr th:only-of-type {\n",
       "        vertical-align: middle;\n",
       "    }\n",
       "\n",
       "    .dataframe tbody tr th {\n",
       "        vertical-align: top;\n",
       "    }\n",
       "\n",
       "    .dataframe thead th {\n",
       "        text-align: right;\n",
       "    }\n",
       "</style>\n",
       "<table border=\"1\" class=\"dataframe\">\n",
       "  <thead>\n",
       "    <tr style=\"text-align: right;\">\n",
       "      <th></th>\n",
       "      <th>id</th>\n",
       "      <th>laptop_ID</th>\n",
       "      <th>Company</th>\n",
       "      <th>Product</th>\n",
       "      <th>TypeName</th>\n",
       "      <th>Inches</th>\n",
       "      <th>ScreenResolution</th>\n",
       "      <th>Cpu</th>\n",
       "      <th>Ram</th>\n",
       "      <th>Memory</th>\n",
       "      <th>Gpu</th>\n",
       "      <th>OpSys</th>\n",
       "      <th>Weight</th>\n",
       "    </tr>\n",
       "  </thead>\n",
       "  <tbody>\n",
       "    <tr>\n",
       "      <th>0</th>\n",
       "      <td>181</td>\n",
       "      <td>1098</td>\n",
       "      <td>HP</td>\n",
       "      <td>Spectre x360</td>\n",
       "      <td>Ultrabook</td>\n",
       "      <td>13.3</td>\n",
       "      <td>IPS Panel 4K Ultra HD 3840x2160</td>\n",
       "      <td>Intel Core i7 7500U 2.7GHz</td>\n",
       "      <td>16GB</td>\n",
       "      <td>512GB SSD</td>\n",
       "      <td>Intel HD Graphics 620</td>\n",
       "      <td>Windows 10</td>\n",
       "      <td>1.3kg</td>\n",
       "    </tr>\n",
       "    <tr>\n",
       "      <th>1</th>\n",
       "      <td>708</td>\n",
       "      <td>330</td>\n",
       "      <td>Acer</td>\n",
       "      <td>Aspire 5</td>\n",
       "      <td>Notebook</td>\n",
       "      <td>15.6</td>\n",
       "      <td>1366x768</td>\n",
       "      <td>AMD A12-Series 9720P 2.7GHz</td>\n",
       "      <td>8GB</td>\n",
       "      <td>256GB SSD</td>\n",
       "      <td>AMD Radeon RX 540</td>\n",
       "      <td>Windows 10</td>\n",
       "      <td>2.2kg</td>\n",
       "    </tr>\n",
       "    <tr>\n",
       "      <th>2</th>\n",
       "      <td>862</td>\n",
       "      <td>1260</td>\n",
       "      <td>Acer</td>\n",
       "      <td>Aspire ES1-572</td>\n",
       "      <td>Notebook</td>\n",
       "      <td>15.6</td>\n",
       "      <td>1366x768</td>\n",
       "      <td>Intel Core i3 6006U 2.0GHz</td>\n",
       "      <td>4GB</td>\n",
       "      <td>500GB HDD</td>\n",
       "      <td>Intel HD Graphics 520</td>\n",
       "      <td>Linux</td>\n",
       "      <td>2.4kg</td>\n",
       "    </tr>\n",
       "    <tr>\n",
       "      <th>3</th>\n",
       "      <td>1064</td>\n",
       "      <td>1137</td>\n",
       "      <td>HP</td>\n",
       "      <td>EliteBook 1040</td>\n",
       "      <td>Notebook</td>\n",
       "      <td>14.0</td>\n",
       "      <td>Full HD 1920x1080</td>\n",
       "      <td>Intel Core i5 6200U 2.3GHz</td>\n",
       "      <td>8GB</td>\n",
       "      <td>256GB SSD</td>\n",
       "      <td>Intel HD Graphics 520</td>\n",
       "      <td>Windows 7</td>\n",
       "      <td>1.43kg</td>\n",
       "    </tr>\n",
       "    <tr>\n",
       "      <th>4</th>\n",
       "      <td>702</td>\n",
       "      <td>1015</td>\n",
       "      <td>HP</td>\n",
       "      <td>ENVY -</td>\n",
       "      <td>Notebook</td>\n",
       "      <td>13.3</td>\n",
       "      <td>IPS Panel Full HD 1920x1080</td>\n",
       "      <td>Intel Core i5 7200U 2.5GHz</td>\n",
       "      <td>8GB</td>\n",
       "      <td>256GB SSD</td>\n",
       "      <td>Intel HD Graphics 620</td>\n",
       "      <td>Windows 10</td>\n",
       "      <td>1.34kg</td>\n",
       "    </tr>\n",
       "    <tr>\n",
       "      <th>...</th>\n",
       "      <td>...</td>\n",
       "      <td>...</td>\n",
       "      <td>...</td>\n",
       "      <td>...</td>\n",
       "      <td>...</td>\n",
       "      <td>...</td>\n",
       "      <td>...</td>\n",
       "      <td>...</td>\n",
       "      <td>...</td>\n",
       "      <td>...</td>\n",
       "      <td>...</td>\n",
       "      <td>...</td>\n",
       "      <td>...</td>\n",
       "    </tr>\n",
       "    <tr>\n",
       "      <th>386</th>\n",
       "      <td>1281</td>\n",
       "      <td>145</td>\n",
       "      <td>Lenovo</td>\n",
       "      <td>Legion Y520-15IKBN</td>\n",
       "      <td>Gaming</td>\n",
       "      <td>15.6</td>\n",
       "      <td>IPS Panel Full HD 1920x1080</td>\n",
       "      <td>Intel Core i7 7700HQ 2.8GHz</td>\n",
       "      <td>8GB</td>\n",
       "      <td>256GB SSD</td>\n",
       "      <td>Nvidia GeForce GTX 1050M</td>\n",
       "      <td>No OS</td>\n",
       "      <td>2.4kg</td>\n",
       "    </tr>\n",
       "    <tr>\n",
       "      <th>387</th>\n",
       "      <td>524</td>\n",
       "      <td>1195</td>\n",
       "      <td>Lenovo</td>\n",
       "      <td>IdeaPad Y700-15ISK</td>\n",
       "      <td>Gaming</td>\n",
       "      <td>15.6</td>\n",
       "      <td>IPS Panel Full HD 1920x1080</td>\n",
       "      <td>Intel Core i7 6700HQ 2.6GHz</td>\n",
       "      <td>16GB</td>\n",
       "      <td>512GB SSD</td>\n",
       "      <td>Nvidia GeForce GTX 960</td>\n",
       "      <td>Windows 10</td>\n",
       "      <td>3.31kg</td>\n",
       "    </tr>\n",
       "    <tr>\n",
       "      <th>388</th>\n",
       "      <td>1015</td>\n",
       "      <td>1070</td>\n",
       "      <td>HP</td>\n",
       "      <td>250 G5</td>\n",
       "      <td>Notebook</td>\n",
       "      <td>15.6</td>\n",
       "      <td>1366x768</td>\n",
       "      <td>Intel Core i5 7200U 2.5GHz</td>\n",
       "      <td>4GB</td>\n",
       "      <td>500GB HDD</td>\n",
       "      <td>Intel HD Graphics 620</td>\n",
       "      <td>No OS</td>\n",
       "      <td>1.96kg</td>\n",
       "    </tr>\n",
       "    <tr>\n",
       "      <th>389</th>\n",
       "      <td>1236</td>\n",
       "      <td>104</td>\n",
       "      <td>HP</td>\n",
       "      <td>15-bw000nv (E2-9000e/4GB/500GB/Radeon</td>\n",
       "      <td>Notebook</td>\n",
       "      <td>15.6</td>\n",
       "      <td>Full HD 1920x1080</td>\n",
       "      <td>AMD E-Series E2-9000e 1.5GHz</td>\n",
       "      <td>4GB</td>\n",
       "      <td>500GB HDD</td>\n",
       "      <td>AMD Radeon R2</td>\n",
       "      <td>Windows 10</td>\n",
       "      <td>2.1kg</td>\n",
       "    </tr>\n",
       "    <tr>\n",
       "      <th>390</th>\n",
       "      <td>1036</td>\n",
       "      <td>258</td>\n",
       "      <td>Lenovo</td>\n",
       "      <td>Yoga 920-13IKB</td>\n",
       "      <td>2 in 1 Convertible</td>\n",
       "      <td>13.9</td>\n",
       "      <td>IPS Panel Full HD / Touchscreen 1920x1080</td>\n",
       "      <td>Intel Core i7 8550U 1.8GHz</td>\n",
       "      <td>8GB</td>\n",
       "      <td>512GB SSD</td>\n",
       "      <td>Intel UHD Graphics 620</td>\n",
       "      <td>Windows 10</td>\n",
       "      <td>1.37kg</td>\n",
       "    </tr>\n",
       "  </tbody>\n",
       "</table>\n",
       "<p>391 rows × 13 columns</p>\n",
       "</div>"
      ],
      "text/plain": [
       "       id  laptop_ID Company                                Product  \\\n",
       "0     181       1098      HP                           Spectre x360   \n",
       "1     708        330    Acer                               Aspire 5   \n",
       "2     862       1260    Acer                         Aspire ES1-572   \n",
       "3    1064       1137      HP                         EliteBook 1040   \n",
       "4     702       1015      HP                                 ENVY -   \n",
       "..    ...        ...     ...                                    ...   \n",
       "386  1281        145  Lenovo                     Legion Y520-15IKBN   \n",
       "387   524       1195  Lenovo                     IdeaPad Y700-15ISK   \n",
       "388  1015       1070      HP                                 250 G5   \n",
       "389  1236        104      HP  15-bw000nv (E2-9000e/4GB/500GB/Radeon   \n",
       "390  1036        258  Lenovo                         Yoga 920-13IKB   \n",
       "\n",
       "               TypeName  Inches                           ScreenResolution  \\\n",
       "0             Ultrabook    13.3            IPS Panel 4K Ultra HD 3840x2160   \n",
       "1              Notebook    15.6                                   1366x768   \n",
       "2              Notebook    15.6                                   1366x768   \n",
       "3              Notebook    14.0                          Full HD 1920x1080   \n",
       "4              Notebook    13.3                IPS Panel Full HD 1920x1080   \n",
       "..                  ...     ...                                        ...   \n",
       "386              Gaming    15.6                IPS Panel Full HD 1920x1080   \n",
       "387              Gaming    15.6                IPS Panel Full HD 1920x1080   \n",
       "388            Notebook    15.6                                   1366x768   \n",
       "389            Notebook    15.6                          Full HD 1920x1080   \n",
       "390  2 in 1 Convertible    13.9  IPS Panel Full HD / Touchscreen 1920x1080   \n",
       "\n",
       "                              Cpu   Ram     Memory                       Gpu  \\\n",
       "0      Intel Core i7 7500U 2.7GHz  16GB  512GB SSD     Intel HD Graphics 620   \n",
       "1     AMD A12-Series 9720P 2.7GHz   8GB  256GB SSD         AMD Radeon RX 540   \n",
       "2      Intel Core i3 6006U 2.0GHz   4GB  500GB HDD     Intel HD Graphics 520   \n",
       "3      Intel Core i5 6200U 2.3GHz   8GB  256GB SSD     Intel HD Graphics 520   \n",
       "4      Intel Core i5 7200U 2.5GHz   8GB  256GB SSD     Intel HD Graphics 620   \n",
       "..                            ...   ...        ...                       ...   \n",
       "386   Intel Core i7 7700HQ 2.8GHz   8GB  256GB SSD  Nvidia GeForce GTX 1050M   \n",
       "387   Intel Core i7 6700HQ 2.6GHz  16GB  512GB SSD    Nvidia GeForce GTX 960   \n",
       "388    Intel Core i5 7200U 2.5GHz   4GB  500GB HDD     Intel HD Graphics 620   \n",
       "389  AMD E-Series E2-9000e 1.5GHz   4GB  500GB HDD             AMD Radeon R2   \n",
       "390    Intel Core i7 8550U 1.8GHz   8GB  512GB SSD    Intel UHD Graphics 620   \n",
       "\n",
       "          OpSys  Weight  \n",
       "0    Windows 10   1.3kg  \n",
       "1    Windows 10   2.2kg  \n",
       "2         Linux   2.4kg  \n",
       "3     Windows 7  1.43kg  \n",
       "4    Windows 10  1.34kg  \n",
       "..          ...     ...  \n",
       "386       No OS   2.4kg  \n",
       "387  Windows 10  3.31kg  \n",
       "388       No OS  1.96kg  \n",
       "389  Windows 10   2.1kg  \n",
       "390  Windows 10  1.37kg  \n",
       "\n",
       "[391 rows x 13 columns]"
      ]
     },
     "execution_count": 21,
     "metadata": {},
     "output_type": "execute_result"
    }
   ],
   "source": [
    "### Para que funcione necesitas bajarte los archivos de datos de Kaggle \n",
    "df = pd.read_csv(\"./data/test.csv\")\n",
    "df"
   ]
  },
  {
   "cell_type": "markdown",
   "metadata": {},
   "source": [
    "## Data exploration"
   ]
  },
  {
   "cell_type": "code",
   "execution_count": 22,
   "metadata": {},
   "outputs": [
    {
     "data": {
      "text/html": [
       "<div>\n",
       "<style scoped>\n",
       "    .dataframe tbody tr th:only-of-type {\n",
       "        vertical-align: middle;\n",
       "    }\n",
       "\n",
       "    .dataframe tbody tr th {\n",
       "        vertical-align: top;\n",
       "    }\n",
       "\n",
       "    .dataframe thead th {\n",
       "        text-align: right;\n",
       "    }\n",
       "</style>\n",
       "<table border=\"1\" class=\"dataframe\">\n",
       "  <thead>\n",
       "    <tr style=\"text-align: right;\">\n",
       "      <th></th>\n",
       "      <th>id</th>\n",
       "      <th>laptop_ID</th>\n",
       "      <th>Company</th>\n",
       "      <th>Product</th>\n",
       "      <th>TypeName</th>\n",
       "      <th>Inches</th>\n",
       "      <th>ScreenResolution</th>\n",
       "      <th>Cpu</th>\n",
       "      <th>Ram</th>\n",
       "      <th>Memory</th>\n",
       "      <th>Gpu</th>\n",
       "      <th>OpSys</th>\n",
       "      <th>Weight</th>\n",
       "    </tr>\n",
       "  </thead>\n",
       "  <tbody>\n",
       "    <tr>\n",
       "      <th>Tipos</th>\n",
       "      <td>int64</td>\n",
       "      <td>int64</td>\n",
       "      <td>object</td>\n",
       "      <td>object</td>\n",
       "      <td>object</td>\n",
       "      <td>float64</td>\n",
       "      <td>object</td>\n",
       "      <td>object</td>\n",
       "      <td>object</td>\n",
       "      <td>object</td>\n",
       "      <td>object</td>\n",
       "      <td>object</td>\n",
       "      <td>object</td>\n",
       "    </tr>\n",
       "    <tr>\n",
       "      <th>% Faltante</th>\n",
       "      <td>0.0</td>\n",
       "      <td>0.0</td>\n",
       "      <td>0.0</td>\n",
       "      <td>0.0</td>\n",
       "      <td>0.0</td>\n",
       "      <td>0.0</td>\n",
       "      <td>0.0</td>\n",
       "      <td>0.0</td>\n",
       "      <td>0.0</td>\n",
       "      <td>0.0</td>\n",
       "      <td>0.0</td>\n",
       "      <td>0.0</td>\n",
       "      <td>0.0</td>\n",
       "    </tr>\n",
       "    <tr>\n",
       "      <th>Valores Únicos</th>\n",
       "      <td>391</td>\n",
       "      <td>391</td>\n",
       "      <td>17</td>\n",
       "      <td>267</td>\n",
       "      <td>6</td>\n",
       "      <td>15</td>\n",
       "      <td>33</td>\n",
       "      <td>67</td>\n",
       "      <td>9</td>\n",
       "      <td>24</td>\n",
       "      <td>74</td>\n",
       "      <td>8</td>\n",
       "      <td>125</td>\n",
       "    </tr>\n",
       "    <tr>\n",
       "      <th>% Cardinalidad</th>\n",
       "      <td>100.0</td>\n",
       "      <td>100.0</td>\n",
       "      <td>4.35</td>\n",
       "      <td>68.29</td>\n",
       "      <td>1.53</td>\n",
       "      <td>3.84</td>\n",
       "      <td>8.44</td>\n",
       "      <td>17.14</td>\n",
       "      <td>2.3</td>\n",
       "      <td>6.14</td>\n",
       "      <td>18.93</td>\n",
       "      <td>2.05</td>\n",
       "      <td>31.97</td>\n",
       "    </tr>\n",
       "  </tbody>\n",
       "</table>\n",
       "</div>"
      ],
      "text/plain": [
       "                   id laptop_ID Company Product TypeName   Inches  \\\n",
       "Tipos           int64     int64  object  object   object  float64   \n",
       "% Faltante        0.0       0.0     0.0     0.0      0.0      0.0   \n",
       "Valores Únicos    391       391      17     267        6       15   \n",
       "% Cardinalidad  100.0     100.0    4.35   68.29     1.53     3.84   \n",
       "\n",
       "               ScreenResolution     Cpu     Ram  Memory     Gpu   OpSys  \\\n",
       "Tipos                    object  object  object  object  object  object   \n",
       "% Faltante                  0.0     0.0     0.0     0.0     0.0     0.0   \n",
       "Valores Únicos               33      67       9      24      74       8   \n",
       "% Cardinalidad             8.44   17.14     2.3    6.14   18.93    2.05   \n",
       "\n",
       "                Weight  \n",
       "Tipos           object  \n",
       "% Faltante         0.0  \n",
       "Valores Únicos     125  \n",
       "% Cardinalidad   31.97  "
      ]
     },
     "execution_count": 22,
     "metadata": {},
     "output_type": "execute_result"
    }
   ],
   "source": [
    "tlb.describe_df(df)"
   ]
  },
  {
   "cell_type": "markdown",
   "metadata": {},
   "source": [
    "Creo que \"id\", \"laptop_ID\" y \"Product\" no aportan informacion"
   ]
  },
  {
   "cell_type": "code",
   "execution_count": 23,
   "metadata": {},
   "outputs": [],
   "source": [
    "feat_out = [\"id\", \"laptop_ID\", \"Product\"]"
   ]
  },
  {
   "cell_type": "markdown",
   "metadata": {},
   "source": [
    "## Data processing"
   ]
  },
  {
   "cell_type": "code",
   "execution_count": 24,
   "metadata": {},
   "outputs": [
    {
     "name": "stdout",
     "output_type": "stream",
     "text": [
      "<class 'pandas.core.frame.DataFrame'>\n",
      "RangeIndex: 391 entries, 0 to 390\n",
      "Data columns (total 13 columns):\n",
      " #   Column            Non-Null Count  Dtype  \n",
      "---  ------            --------------  -----  \n",
      " 0   id                391 non-null    int64  \n",
      " 1   laptop_ID         391 non-null    int64  \n",
      " 2   Company           391 non-null    object \n",
      " 3   Product           391 non-null    object \n",
      " 4   TypeName          391 non-null    object \n",
      " 5   Inches            391 non-null    float64\n",
      " 6   ScreenResolution  391 non-null    object \n",
      " 7   Cpu               391 non-null    object \n",
      " 8   Ram               391 non-null    object \n",
      " 9   Memory            391 non-null    object \n",
      " 10  Gpu               391 non-null    object \n",
      " 11  OpSys             391 non-null    object \n",
      " 12  Weight            391 non-null    object \n",
      "dtypes: float64(1), int64(2), object(10)\n",
      "memory usage: 39.8+ KB\n"
     ]
    }
   ],
   "source": [
    "df.info()"
   ]
  },
  {
   "cell_type": "markdown",
   "metadata": {},
   "source": [
    "## Data processing"
   ]
  },
  {
   "cell_type": "code",
   "execution_count": 25,
   "metadata": {},
   "outputs": [
    {
     "data": {
      "text/plain": [
       "TypeName\n",
       "Notebook              205\n",
       "Gaming                 67\n",
       "Ultrabook              61\n",
       "2 in 1 Convertible     36\n",
       "Workstation            11\n",
       "Netbook                11\n",
       "Name: count, dtype: int64"
      ]
     },
     "execution_count": 25,
     "metadata": {},
     "output_type": "execute_result"
    }
   ],
   "source": [
    "df[\"TypeName\"].value_counts()"
   ]
  },
  {
   "cell_type": "code",
   "execution_count": 26,
   "metadata": {},
   "outputs": [],
   "source": [
    "feat_cat = [\"TypeName\"]"
   ]
  },
  {
   "cell_type": "code",
   "execution_count": 27,
   "metadata": {},
   "outputs": [
    {
     "data": {
      "text/plain": [
       "ScreenResolution\n",
       "Full HD 1920x1080                                161\n",
       "1366x768                                          73\n",
       "IPS Panel Full HD 1920x1080                       67\n",
       "IPS Panel Full HD / Touchscreen 1920x1080         16\n",
       "Full HD / Touchscreen 1920x1080                   15\n",
       "1600x900                                          12\n",
       "Quad HD+ / Touchscreen 3200x1800                   7\n",
       "IPS Panel 4K Ultra HD / Touchscreen 3840x2160      3\n",
       "Touchscreen 2560x1440                              3\n",
       "Touchscreen 2256x1504                              3\n",
       "IPS Panel Quad HD+ / Touchscreen 3200x1800         2\n",
       "4K Ultra HD 3840x2160                              2\n",
       "1440x900                                           2\n",
       "IPS Panel Quad HD+ 2560x1440                       2\n",
       "4K Ultra HD / Touchscreen 3840x2160                2\n",
       "IPS Panel Touchscreen 1366x768                     2\n",
       "IPS Panel 4K Ultra HD 3840x2160                    2\n",
       "IPS Panel 1366x768                                 2\n",
       "IPS Panel Retina Display 2560x1600                 1\n",
       "2560x1440                                          1\n",
       "IPS Panel Retina Display 2880x1800                 1\n",
       "IPS Panel Quad HD+ 3200x1800                       1\n",
       "IPS Panel 2560x1440                                1\n",
       "IPS Panel Full HD 2160x1440                        1\n",
       "IPS Panel Touchscreen 2560x1440                    1\n",
       "IPS Panel Full HD 1366x768                         1\n",
       "Quad HD+ 3200x1800                                 1\n",
       "Touchscreen / Quad HD+ 3200x1800                   1\n",
       "IPS Panel Retina Display 2736x1824                 1\n",
       "IPS Panel Full HD 2560x1440                        1\n",
       "Touchscreen 2400x1600                              1\n",
       "Touchscreen 1366x768                               1\n",
       "IPS Panel Touchscreen 2400x1600                    1\n",
       "Name: count, dtype: int64"
      ]
     },
     "execution_count": 27,
     "metadata": {},
     "output_type": "execute_result"
    }
   ],
   "source": [
    "df[\"ScreenResolution\"].value_counts()"
   ]
  },
  {
   "cell_type": "markdown",
   "metadata": {},
   "source": [
    "Las pantallas incrementan el precio del equipo cuanto mas resolucion tienen. Voy a extraer la resolucion. La calcularé en total de pixeles dividiré por 10e6."
   ]
  },
  {
   "cell_type": "code",
   "execution_count": 28,
   "metadata": {},
   "outputs": [],
   "source": [
    "patron = r\"(\\d+)x(\\d+)\""
   ]
  },
  {
   "cell_type": "code",
   "execution_count": 29,
   "metadata": {},
   "outputs": [],
   "source": [
    "df[\"Res_H\"] = [int(re.search(patron, valor).group(1)) for valor in df[\"ScreenResolution\"]]\n",
    "df[\"Res_V\"] = [int(re.search(patron, valor).group(2)) for valor in df[\"ScreenResolution\"]]\n",
    "df[\"Res_tot\"] = df[\"Res_H\"] * df[\"Res_V\"] /1000000"
   ]
  },
  {
   "cell_type": "code",
   "execution_count": 30,
   "metadata": {},
   "outputs": [],
   "source": [
    "feat_out += [\"ScreenResolution\", \"Res_H\", \"Res_V\"]"
   ]
  },
  {
   "cell_type": "markdown",
   "metadata": {},
   "source": [
    "Analizo Cpu"
   ]
  },
  {
   "cell_type": "code",
   "execution_count": 31,
   "metadata": {},
   "outputs": [
    {
     "data": {
      "text/plain": [
       "Cpu\n",
       "Intel Core i5 7200U 2.5GHz            48\n",
       "Intel Core i7 7500U 2.7GHz            46\n",
       "Intel Core i7 7700HQ 2.8GHz           44\n",
       "Intel Core i7 8550U 1.8GHz            29\n",
       "Intel Core i5 8250U 1.6GHz            18\n",
       "                                      ..\n",
       "Intel Core i5 2.0GHz                   1\n",
       "AMD A6-Series 7310 2GHz                1\n",
       "Intel Core i7 2.9GHz                   1\n",
       "Intel Core i5 7Y54 1.2GHz              1\n",
       "Intel Celeron Dual Core N3350 2GHz     1\n",
       "Name: count, Length: 67, dtype: int64"
      ]
     },
     "execution_count": 31,
     "metadata": {},
     "output_type": "execute_result"
    }
   ],
   "source": [
    "df[\"Cpu\"].value_counts()"
   ]
  },
  {
   "cell_type": "markdown",
   "metadata": {},
   "source": [
    "La CPUs incrementan el precio del equipo cuanto a mas velocidad(=GHz) de procesamiento tienen. Voy a extraer la velocidad."
   ]
  },
  {
   "cell_type": "code",
   "execution_count": 32,
   "metadata": {},
   "outputs": [],
   "source": [
    "list_cpu = [valor [-3:] for valor in df[\"Cpu\"]]"
   ]
  },
  {
   "cell_type": "code",
   "execution_count": 33,
   "metadata": {},
   "outputs": [
    {
     "data": {
      "text/plain": [
       "1.0"
      ]
     },
     "execution_count": 33,
     "metadata": {},
     "output_type": "execute_result"
    }
   ],
   "source": [
    "GHz_freq = list_cpu.count(\"GHz\") / len(list_cpu)\n",
    "GHz_freq"
   ]
  },
  {
   "cell_type": "markdown",
   "metadata": {},
   "source": [
    "Todo esta medido en GHZ"
   ]
  },
  {
   "cell_type": "code",
   "execution_count": 34,
   "metadata": {},
   "outputs": [],
   "source": [
    "patron_1 = r\"(\\d+\\.\\d+)GHz\"\n",
    "patron_2 = r\"(\\d+)GHz\""
   ]
  },
  {
   "cell_type": "code",
   "execution_count": 35,
   "metadata": {},
   "outputs": [
    {
     "data": {
      "text/plain": [
       "391"
      ]
     },
     "execution_count": 35,
     "metadata": {},
     "output_type": "execute_result"
    }
   ],
   "source": [
    "list_cpu = []\n",
    "for valor in df[\"Cpu\"]:\n",
    "    coincidencia_1 = re.search(patron_1, valor)\n",
    "    coincidencia_2 = re.search(patron_2, valor)\n",
    "\n",
    "    # Extraer el número si hay una coincidencia\n",
    "    if coincidencia_1:\n",
    "        ghz = float(coincidencia_1.group(1))  # Primer grupo de números decimales\n",
    "        #print(f\"Ghz_1: {ghz}\")\n",
    "        list_cpu.append(ghz)\n",
    "    elif coincidencia_2:\n",
    "        ghz = float(coincidencia_2.group(1))  # Primer grupo de números decimales\n",
    "        list_cpu.append(ghz)\n",
    "        #print(f\"Ghz_2: {ghz}\")\n",
    "    else:\n",
    "        print(f\"Error {valor}\")\n",
    "    \n",
    "\n",
    "len(list_cpu)      \n",
    "    "
   ]
  },
  {
   "cell_type": "code",
   "execution_count": 36,
   "metadata": {},
   "outputs": [],
   "source": [
    "df[\"GHz\"] = list_cpu"
   ]
  },
  {
   "cell_type": "code",
   "execution_count": 37,
   "metadata": {},
   "outputs": [],
   "source": [
    "feat_out += [\"Cpu\"]"
   ]
  },
  {
   "cell_type": "markdown",
   "metadata": {},
   "source": [
    "Analizo RAM"
   ]
  },
  {
   "cell_type": "code",
   "execution_count": 38,
   "metadata": {},
   "outputs": [
    {
     "data": {
      "text/plain": [
       "Ram\n",
       "8GB     185\n",
       "4GB     101\n",
       "16GB     75\n",
       "12GB     10\n",
       "6GB       9\n",
       "2GB       6\n",
       "32GB      3\n",
       "64GB      1\n",
       "24GB      1\n",
       "Name: count, dtype: int64"
      ]
     },
     "execution_count": 38,
     "metadata": {},
     "output_type": "execute_result"
    }
   ],
   "source": [
    "df[\"Ram\"].value_counts()"
   ]
  },
  {
   "cell_type": "markdown",
   "metadata": {},
   "source": [
    "La convierto en un entero"
   ]
  },
  {
   "cell_type": "code",
   "execution_count": 39,
   "metadata": {},
   "outputs": [],
   "source": [
    "patron = r\"(\\d+)GB\""
   ]
  },
  {
   "cell_type": "code",
   "execution_count": 40,
   "metadata": {},
   "outputs": [],
   "source": [
    "df[\"Ram_GB\"] = [int(re.search(patron, valor).group(1)) for valor in df[\"Ram\"]]"
   ]
  },
  {
   "cell_type": "code",
   "execution_count": 41,
   "metadata": {},
   "outputs": [],
   "source": [
    "feat_out += [\"Ram\"]"
   ]
  },
  {
   "cell_type": "code",
   "execution_count": 42,
   "metadata": {},
   "outputs": [
    {
     "data": {
      "text/plain": [
       "Memory\n",
       "256GB SSD                 119\n",
       "1TB HDD                    73\n",
       "512GB SSD                  43\n",
       "128GB SSD +  1TB HDD       33\n",
       "500GB HDD                  32\n",
       "256GB SSD +  1TB HDD       21\n",
       "128GB SSD                  20\n",
       "32GB Flash Storage         11\n",
       "256GB SSD +  2TB HDD        6\n",
       "1TB SSD                     5\n",
       "2TB HDD                     5\n",
       "64GB Flash Storage          4\n",
       "512GB SSD +  1TB HDD        4\n",
       "16GB Flash Storage          3\n",
       "128GB Flash Storage         2\n",
       "1.0TB Hybrid                2\n",
       "256GB SSD +  256GB SSD      1\n",
       "128GB SSD +  2TB HDD        1\n",
       "256GB Flash Storage         1\n",
       "512GB SSD +  2TB HDD        1\n",
       "128GB HDD                   1\n",
       "508GB Hybrid                1\n",
       "512GB SSD +  256GB SSD      1\n",
       "32GB SSD                    1\n",
       "Name: count, dtype: int64"
      ]
     },
     "execution_count": 42,
     "metadata": {},
     "output_type": "execute_result"
    }
   ],
   "source": [
    "df[\"Memory\"].value_counts()"
   ]
  },
  {
   "cell_type": "markdown",
   "metadata": {},
   "source": [
    "Veo muy complicado extraer informacion numerica de aquí. Y como categorica tiene muchas clases. De momento no la cojo"
   ]
  },
  {
   "cell_type": "code",
   "execution_count": 43,
   "metadata": {},
   "outputs": [],
   "source": [
    "feat_out += [\"Memory\"]"
   ]
  },
  {
   "cell_type": "code",
   "execution_count": 44,
   "metadata": {},
   "outputs": [
    {
     "data": {
      "text/plain": [
       "Gpu\n",
       "Intel HD Graphics 620      82\n",
       "Intel HD Graphics 520      47\n",
       "Nvidia GeForce GTX 1050    23\n",
       "Intel UHD Graphics 620     23\n",
       "Nvidia GeForce 940MX       17\n",
       "                           ..\n",
       "Intel Iris Graphics 540     1\n",
       "AMD Radeon Pro 560          1\n",
       "Nvidia Quadro M520M         1\n",
       "AMD Radeon R7 M465          1\n",
       "Nvidia GeForce 920M         1\n",
       "Name: count, Length: 74, dtype: int64"
      ]
     },
     "execution_count": 44,
     "metadata": {},
     "output_type": "execute_result"
    }
   ],
   "source": [
    "df[\"Gpu\"].value_counts()"
   ]
  },
  {
   "cell_type": "markdown",
   "metadata": {},
   "source": [
    "Veo muy complicado extraer informacion numerica de aquí. Y como categorica tiene muchas clases. De momento no la cojo"
   ]
  },
  {
   "cell_type": "code",
   "execution_count": 45,
   "metadata": {},
   "outputs": [],
   "source": [
    "feat_out += [\"Gpu\"]"
   ]
  },
  {
   "cell_type": "code",
   "execution_count": 46,
   "metadata": {},
   "outputs": [
    {
     "data": {
      "text/plain": [
       "OpSys\n",
       "Windows 10      0.833760\n",
       "No OS           0.056266\n",
       "Linux           0.038363\n",
       "Windows 7       0.033248\n",
       "Chrome OS       0.017903\n",
       "Windows 10 S    0.010230\n",
       "macOS           0.005115\n",
       "Mac OS X        0.005115\n",
       "Name: proportion, dtype: float64"
      ]
     },
     "execution_count": 46,
     "metadata": {},
     "output_type": "execute_result"
    }
   ],
   "source": [
    "df[\"OpSys\"].value_counts(True)"
   ]
  },
  {
   "cell_type": "code",
   "execution_count": 47,
   "metadata": {},
   "outputs": [],
   "source": [
    "feat_out += [\"OpSys\"]"
   ]
  },
  {
   "cell_type": "markdown",
   "metadata": {},
   "source": [
    "Como categorica podríamos cogerla. Pero nos añade 9 columnas. Podríamos agrupar en Windows y el resto. Pero esta muy concentrada en Windows. No creo que nos aporte mucha informacion. De momento no la cojo"
   ]
  },
  {
   "cell_type": "code",
   "execution_count": 48,
   "metadata": {},
   "outputs": [
    {
     "data": {
      "text/plain": [
       "Company\n",
       "Dell         0.230179\n",
       "Lenovo       0.227621\n",
       "HP           0.217391\n",
       "Asus         0.127877\n",
       "Acer         0.071611\n",
       "MSI          0.051151\n",
       "Toshiba      0.028133\n",
       "Apple        0.010230\n",
       "Microsoft    0.007673\n",
       "Samsung      0.007673\n",
       "LG           0.005115\n",
       "Chuwi        0.002558\n",
       "Vero         0.002558\n",
       "Razer        0.002558\n",
       "Huawei       0.002558\n",
       "Xiaomi       0.002558\n",
       "Google       0.002558\n",
       "Name: proportion, dtype: float64"
      ]
     },
     "execution_count": 48,
     "metadata": {},
     "output_type": "execute_result"
    }
   ],
   "source": [
    "df[\"Company\"].value_counts(True)"
   ]
  },
  {
   "cell_type": "code",
   "execution_count": 49,
   "metadata": {},
   "outputs": [],
   "source": [
    "def mapear_company(valor):\n",
    "    if valor not in ['Lenovo', 'Dell', 'HP']:\n",
    "        return 'Resto'\n",
    "    else:\n",
    "        return valor"
   ]
  },
  {
   "cell_type": "code",
   "execution_count": 50,
   "metadata": {},
   "outputs": [],
   "source": [
    "df['Company_map'] = df['Company'].apply(mapear_company)"
   ]
  },
  {
   "cell_type": "code",
   "execution_count": 51,
   "metadata": {},
   "outputs": [],
   "source": [
    "feat_cat += [\"Company_map\"]"
   ]
  },
  {
   "cell_type": "code",
   "execution_count": 52,
   "metadata": {},
   "outputs": [],
   "source": [
    "feat_out += [\"Company\"]"
   ]
  },
  {
   "cell_type": "markdown",
   "metadata": {},
   "source": [
    "Company la he agrupado en 4 clases."
   ]
  },
  {
   "cell_type": "markdown",
   "metadata": {},
   "source": [
    "Veamos Weight"
   ]
  },
  {
   "cell_type": "code",
   "execution_count": 53,
   "metadata": {},
   "outputs": [
    {
     "data": {
      "text/plain": [
       "Weight\n",
       "2.2kg     0.089514\n",
       "2.1kg     0.046036\n",
       "2.5kg     0.035806\n",
       "2.4kg     0.033248\n",
       "2.8kg     0.033248\n",
       "            ...   \n",
       "2.33kg    0.002558\n",
       "2.65kg    0.002558\n",
       "1.22kg    0.002558\n",
       "3.25kg    0.002558\n",
       "1.23kg    0.002558\n",
       "Name: proportion, Length: 125, dtype: float64"
      ]
     },
     "execution_count": 53,
     "metadata": {},
     "output_type": "execute_result"
    }
   ],
   "source": [
    "df[\"Weight\"].value_counts(True)"
   ]
  },
  {
   "cell_type": "markdown",
   "metadata": {},
   "source": [
    "La convierto en un float"
   ]
  },
  {
   "cell_type": "code",
   "execution_count": 54,
   "metadata": {},
   "outputs": [],
   "source": [
    "patron_1 = r\"(\\d+\\.\\d+)kg\"\n",
    "patron_2 = r\"(\\d+)kg\""
   ]
  },
  {
   "cell_type": "code",
   "execution_count": 55,
   "metadata": {},
   "outputs": [
    {
     "data": {
      "text/plain": [
       "391"
      ]
     },
     "execution_count": 55,
     "metadata": {},
     "output_type": "execute_result"
    }
   ],
   "source": [
    "list_weight = []\n",
    "for valor in df[\"Weight\"]:\n",
    "    coincidencia_1 = re.search(patron_1, valor)\n",
    "    coincidencia_2 = re.search(patron_2, valor)\n",
    "\n",
    "    # Extraer el número si hay una coincidencia\n",
    "    if coincidencia_1:\n",
    "        ghz = float(coincidencia_1.group(1))  # Primer grupo de números decimales\n",
    "        #print(f\"Ghz_1: {ghz}\")\n",
    "        list_weight.append(ghz)\n",
    "    elif coincidencia_2:\n",
    "        ghz = float(coincidencia_2.group(1))  # Primer grupo de números decimales\n",
    "        list_weight.append(ghz)\n",
    "        #print(f\"Ghz_2: {ghz}\")\n",
    "    else:\n",
    "        print(f\"Error {valor}\")\n",
    "    \n",
    "\n",
    "len(list_weight)    "
   ]
  },
  {
   "cell_type": "code",
   "execution_count": 56,
   "metadata": {},
   "outputs": [],
   "source": [
    "df[\"Weight_Kg\"] = list_weight"
   ]
  },
  {
   "cell_type": "code",
   "execution_count": 57,
   "metadata": {},
   "outputs": [],
   "source": [
    "feat_out += [\"Weight\"]"
   ]
  },
  {
   "cell_type": "code",
   "execution_count": 58,
   "metadata": {},
   "outputs": [
    {
     "data": {
      "text/html": [
       "<div>\n",
       "<style scoped>\n",
       "    .dataframe tbody tr th:only-of-type {\n",
       "        vertical-align: middle;\n",
       "    }\n",
       "\n",
       "    .dataframe tbody tr th {\n",
       "        vertical-align: top;\n",
       "    }\n",
       "\n",
       "    .dataframe thead th {\n",
       "        text-align: right;\n",
       "    }\n",
       "</style>\n",
       "<table border=\"1\" class=\"dataframe\">\n",
       "  <thead>\n",
       "    <tr style=\"text-align: right;\">\n",
       "      <th></th>\n",
       "      <th>TypeName</th>\n",
       "      <th>Inches</th>\n",
       "      <th>Res_tot</th>\n",
       "      <th>GHz</th>\n",
       "      <th>Ram_GB</th>\n",
       "      <th>Company_map</th>\n",
       "      <th>Weight_Kg</th>\n",
       "    </tr>\n",
       "  </thead>\n",
       "  <tbody>\n",
       "    <tr>\n",
       "      <th>0</th>\n",
       "      <td>Ultrabook</td>\n",
       "      <td>13.3</td>\n",
       "      <td>8.294400</td>\n",
       "      <td>2.7</td>\n",
       "      <td>16</td>\n",
       "      <td>HP</td>\n",
       "      <td>1.30</td>\n",
       "    </tr>\n",
       "    <tr>\n",
       "      <th>1</th>\n",
       "      <td>Notebook</td>\n",
       "      <td>15.6</td>\n",
       "      <td>1.049088</td>\n",
       "      <td>2.7</td>\n",
       "      <td>8</td>\n",
       "      <td>Resto</td>\n",
       "      <td>2.20</td>\n",
       "    </tr>\n",
       "    <tr>\n",
       "      <th>2</th>\n",
       "      <td>Notebook</td>\n",
       "      <td>15.6</td>\n",
       "      <td>1.049088</td>\n",
       "      <td>2.0</td>\n",
       "      <td>4</td>\n",
       "      <td>Resto</td>\n",
       "      <td>2.40</td>\n",
       "    </tr>\n",
       "    <tr>\n",
       "      <th>3</th>\n",
       "      <td>Notebook</td>\n",
       "      <td>14.0</td>\n",
       "      <td>2.073600</td>\n",
       "      <td>2.3</td>\n",
       "      <td>8</td>\n",
       "      <td>HP</td>\n",
       "      <td>1.43</td>\n",
       "    </tr>\n",
       "    <tr>\n",
       "      <th>4</th>\n",
       "      <td>Notebook</td>\n",
       "      <td>13.3</td>\n",
       "      <td>2.073600</td>\n",
       "      <td>2.5</td>\n",
       "      <td>8</td>\n",
       "      <td>HP</td>\n",
       "      <td>1.34</td>\n",
       "    </tr>\n",
       "    <tr>\n",
       "      <th>...</th>\n",
       "      <td>...</td>\n",
       "      <td>...</td>\n",
       "      <td>...</td>\n",
       "      <td>...</td>\n",
       "      <td>...</td>\n",
       "      <td>...</td>\n",
       "      <td>...</td>\n",
       "    </tr>\n",
       "    <tr>\n",
       "      <th>386</th>\n",
       "      <td>Gaming</td>\n",
       "      <td>15.6</td>\n",
       "      <td>2.073600</td>\n",
       "      <td>2.8</td>\n",
       "      <td>8</td>\n",
       "      <td>Lenovo</td>\n",
       "      <td>2.40</td>\n",
       "    </tr>\n",
       "    <tr>\n",
       "      <th>387</th>\n",
       "      <td>Gaming</td>\n",
       "      <td>15.6</td>\n",
       "      <td>2.073600</td>\n",
       "      <td>2.6</td>\n",
       "      <td>16</td>\n",
       "      <td>Lenovo</td>\n",
       "      <td>3.31</td>\n",
       "    </tr>\n",
       "    <tr>\n",
       "      <th>388</th>\n",
       "      <td>Notebook</td>\n",
       "      <td>15.6</td>\n",
       "      <td>1.049088</td>\n",
       "      <td>2.5</td>\n",
       "      <td>4</td>\n",
       "      <td>HP</td>\n",
       "      <td>1.96</td>\n",
       "    </tr>\n",
       "    <tr>\n",
       "      <th>389</th>\n",
       "      <td>Notebook</td>\n",
       "      <td>15.6</td>\n",
       "      <td>2.073600</td>\n",
       "      <td>1.5</td>\n",
       "      <td>4</td>\n",
       "      <td>HP</td>\n",
       "      <td>2.10</td>\n",
       "    </tr>\n",
       "    <tr>\n",
       "      <th>390</th>\n",
       "      <td>2 in 1 Convertible</td>\n",
       "      <td>13.9</td>\n",
       "      <td>2.073600</td>\n",
       "      <td>1.8</td>\n",
       "      <td>8</td>\n",
       "      <td>Lenovo</td>\n",
       "      <td>1.37</td>\n",
       "    </tr>\n",
       "  </tbody>\n",
       "</table>\n",
       "<p>391 rows × 7 columns</p>\n",
       "</div>"
      ],
      "text/plain": [
       "               TypeName  Inches   Res_tot  GHz  Ram_GB Company_map  Weight_Kg\n",
       "0             Ultrabook    13.3  8.294400  2.7      16          HP       1.30\n",
       "1              Notebook    15.6  1.049088  2.7       8       Resto       2.20\n",
       "2              Notebook    15.6  1.049088  2.0       4       Resto       2.40\n",
       "3              Notebook    14.0  2.073600  2.3       8          HP       1.43\n",
       "4              Notebook    13.3  2.073600  2.5       8          HP       1.34\n",
       "..                  ...     ...       ...  ...     ...         ...        ...\n",
       "386              Gaming    15.6  2.073600  2.8       8      Lenovo       2.40\n",
       "387              Gaming    15.6  2.073600  2.6      16      Lenovo       3.31\n",
       "388            Notebook    15.6  1.049088  2.5       4          HP       1.96\n",
       "389            Notebook    15.6  2.073600  1.5       4          HP       2.10\n",
       "390  2 in 1 Convertible    13.9  2.073600  1.8       8      Lenovo       1.37\n",
       "\n",
       "[391 rows x 7 columns]"
      ]
     },
     "execution_count": 58,
     "metadata": {},
     "output_type": "execute_result"
    }
   ],
   "source": [
    "train = df.drop(columns=feat_out)\n",
    "train"
   ]
  },
  {
   "cell_type": "code",
   "execution_count": 59,
   "metadata": {},
   "outputs": [
    {
     "data": {
      "text/plain": [
       "['TypeName', 'Company_map']"
      ]
     },
     "execution_count": 59,
     "metadata": {},
     "output_type": "execute_result"
    }
   ],
   "source": [
    "feat_cat"
   ]
  },
  {
   "cell_type": "markdown",
   "metadata": {},
   "source": [
    "## MiniEDA"
   ]
  },
  {
   "cell_type": "code",
   "execution_count": 60,
   "metadata": {},
   "outputs": [],
   "source": [
    "target = \"Price_euros\""
   ]
  },
  {
   "cell_type": "code",
   "execution_count": 61,
   "metadata": {},
   "outputs": [],
   "source": [
    "feat_num = [col for col in train.columns if (not (col in feat_cat)) & (col !=target)]"
   ]
  },
  {
   "cell_type": "code",
   "execution_count": 62,
   "metadata": {},
   "outputs": [
    {
     "name": "stdout",
     "output_type": "stream",
     "text": [
      "(5, 2)\n"
     ]
    },
    {
     "data": {
      "image/png": "[encoded data removed]",
      "text/plain": [
       "<Figure size 1200x2500 with 10 Axes>"
      ]
     },
     "metadata": {},
     "output_type": "display_data"
    }
   ],
   "source": [
    "bt.plot_combined_graphs(train, [col for col in train.columns if not (col in feat_cat)])"
   ]
  },
  {
   "cell_type": "code",
   "execution_count": null,
   "metadata": {},
   "outputs": [],
   "source": []
  },
  {
   "cell_type": "code",
   "execution_count": 63,
   "metadata": {},
   "outputs": [
    {
     "data": {
      "text/html": [
       "<div>\n",
       "<style scoped>\n",
       "    .dataframe tbody tr th:only-of-type {\n",
       "        vertical-align: middle;\n",
       "    }\n",
       "\n",
       "    .dataframe tbody tr th {\n",
       "        vertical-align: top;\n",
       "    }\n",
       "\n",
       "    .dataframe thead th {\n",
       "        text-align: right;\n",
       "    }\n",
       "</style>\n",
       "<table border=\"1\" class=\"dataframe\">\n",
       "  <thead>\n",
       "    <tr style=\"text-align: right;\">\n",
       "      <th></th>\n",
       "      <th>Inches</th>\n",
       "      <th>Res_tot</th>\n",
       "      <th>GHz</th>\n",
       "      <th>Ram_GB</th>\n",
       "      <th>Weight_Kg</th>\n",
       "      <th>TypeName_2 in 1 Convertible</th>\n",
       "      <th>TypeName_Gaming</th>\n",
       "      <th>TypeName_Netbook</th>\n",
       "      <th>TypeName_Notebook</th>\n",
       "      <th>TypeName_Ultrabook</th>\n",
       "      <th>TypeName_Workstation</th>\n",
       "      <th>Company_map_Dell</th>\n",
       "      <th>Company_map_HP</th>\n",
       "      <th>Company_map_Lenovo</th>\n",
       "      <th>Company_map_Resto</th>\n",
       "    </tr>\n",
       "  </thead>\n",
       "  <tbody>\n",
       "    <tr>\n",
       "      <th>0</th>\n",
       "      <td>13.3</td>\n",
       "      <td>8.294400</td>\n",
       "      <td>2.7</td>\n",
       "      <td>16</td>\n",
       "      <td>1.30</td>\n",
       "      <td>False</td>\n",
       "      <td>False</td>\n",
       "      <td>False</td>\n",
       "      <td>False</td>\n",
       "      <td>True</td>\n",
       "      <td>False</td>\n",
       "      <td>False</td>\n",
       "      <td>True</td>\n",
       "      <td>False</td>\n",
       "      <td>False</td>\n",
       "    </tr>\n",
       "    <tr>\n",
       "      <th>1</th>\n",
       "      <td>15.6</td>\n",
       "      <td>1.049088</td>\n",
       "      <td>2.7</td>\n",
       "      <td>8</td>\n",
       "      <td>2.20</td>\n",
       "      <td>False</td>\n",
       "      <td>False</td>\n",
       "      <td>False</td>\n",
       "      <td>True</td>\n",
       "      <td>False</td>\n",
       "      <td>False</td>\n",
       "      <td>False</td>\n",
       "      <td>False</td>\n",
       "      <td>False</td>\n",
       "      <td>True</td>\n",
       "    </tr>\n",
       "    <tr>\n",
       "      <th>2</th>\n",
       "      <td>15.6</td>\n",
       "      <td>1.049088</td>\n",
       "      <td>2.0</td>\n",
       "      <td>4</td>\n",
       "      <td>2.40</td>\n",
       "      <td>False</td>\n",
       "      <td>False</td>\n",
       "      <td>False</td>\n",
       "      <td>True</td>\n",
       "      <td>False</td>\n",
       "      <td>False</td>\n",
       "      <td>False</td>\n",
       "      <td>False</td>\n",
       "      <td>False</td>\n",
       "      <td>True</td>\n",
       "    </tr>\n",
       "    <tr>\n",
       "      <th>3</th>\n",
       "      <td>14.0</td>\n",
       "      <td>2.073600</td>\n",
       "      <td>2.3</td>\n",
       "      <td>8</td>\n",
       "      <td>1.43</td>\n",
       "      <td>False</td>\n",
       "      <td>False</td>\n",
       "      <td>False</td>\n",
       "      <td>True</td>\n",
       "      <td>False</td>\n",
       "      <td>False</td>\n",
       "      <td>False</td>\n",
       "      <td>True</td>\n",
       "      <td>False</td>\n",
       "      <td>False</td>\n",
       "    </tr>\n",
       "    <tr>\n",
       "      <th>4</th>\n",
       "      <td>13.3</td>\n",
       "      <td>2.073600</td>\n",
       "      <td>2.5</td>\n",
       "      <td>8</td>\n",
       "      <td>1.34</td>\n",
       "      <td>False</td>\n",
       "      <td>False</td>\n",
       "      <td>False</td>\n",
       "      <td>True</td>\n",
       "      <td>False</td>\n",
       "      <td>False</td>\n",
       "      <td>False</td>\n",
       "      <td>True</td>\n",
       "      <td>False</td>\n",
       "      <td>False</td>\n",
       "    </tr>\n",
       "    <tr>\n",
       "      <th>...</th>\n",
       "      <td>...</td>\n",
       "      <td>...</td>\n",
       "      <td>...</td>\n",
       "      <td>...</td>\n",
       "      <td>...</td>\n",
       "      <td>...</td>\n",
       "      <td>...</td>\n",
       "      <td>...</td>\n",
       "      <td>...</td>\n",
       "      <td>...</td>\n",
       "      <td>...</td>\n",
       "      <td>...</td>\n",
       "      <td>...</td>\n",
       "      <td>...</td>\n",
       "      <td>...</td>\n",
       "    </tr>\n",
       "    <tr>\n",
       "      <th>386</th>\n",
       "      <td>15.6</td>\n",
       "      <td>2.073600</td>\n",
       "      <td>2.8</td>\n",
       "      <td>8</td>\n",
       "      <td>2.40</td>\n",
       "      <td>False</td>\n",
       "      <td>True</td>\n",
       "      <td>False</td>\n",
       "      <td>False</td>\n",
       "      <td>False</td>\n",
       "      <td>False</td>\n",
       "      <td>False</td>\n",
       "      <td>False</td>\n",
       "      <td>True</td>\n",
       "      <td>False</td>\n",
       "    </tr>\n",
       "    <tr>\n",
       "      <th>387</th>\n",
       "      <td>15.6</td>\n",
       "      <td>2.073600</td>\n",
       "      <td>2.6</td>\n",
       "      <td>16</td>\n",
       "      <td>3.31</td>\n",
       "      <td>False</td>\n",
       "      <td>True</td>\n",
       "      <td>False</td>\n",
       "      <td>False</td>\n",
       "      <td>False</td>\n",
       "      <td>False</td>\n",
       "      <td>False</td>\n",
       "      <td>False</td>\n",
       "      <td>True</td>\n",
       "      <td>False</td>\n",
       "    </tr>\n",
       "    <tr>\n",
       "      <th>388</th>\n",
       "      <td>15.6</td>\n",
       "      <td>1.049088</td>\n",
       "      <td>2.5</td>\n",
       "      <td>4</td>\n",
       "      <td>1.96</td>\n",
       "      <td>False</td>\n",
       "      <td>False</td>\n",
       "      <td>False</td>\n",
       "      <td>True</td>\n",
       "      <td>False</td>\n",
       "      <td>False</td>\n",
       "      <td>False</td>\n",
       "      <td>True</td>\n",
       "      <td>False</td>\n",
       "      <td>False</td>\n",
       "    </tr>\n",
       "    <tr>\n",
       "      <th>389</th>\n",
       "      <td>15.6</td>\n",
       "      <td>2.073600</td>\n",
       "      <td>1.5</td>\n",
       "      <td>4</td>\n",
       "      <td>2.10</td>\n",
       "      <td>False</td>\n",
       "      <td>False</td>\n",
       "      <td>False</td>\n",
       "      <td>True</td>\n",
       "      <td>False</td>\n",
       "      <td>False</td>\n",
       "      <td>False</td>\n",
       "      <td>True</td>\n",
       "      <td>False</td>\n",
       "      <td>False</td>\n",
       "    </tr>\n",
       "    <tr>\n",
       "      <th>390</th>\n",
       "      <td>13.9</td>\n",
       "      <td>2.073600</td>\n",
       "      <td>1.8</td>\n",
       "      <td>8</td>\n",
       "      <td>1.37</td>\n",
       "      <td>True</td>\n",
       "      <td>False</td>\n",
       "      <td>False</td>\n",
       "      <td>False</td>\n",
       "      <td>False</td>\n",
       "      <td>False</td>\n",
       "      <td>False</td>\n",
       "      <td>False</td>\n",
       "      <td>True</td>\n",
       "      <td>False</td>\n",
       "    </tr>\n",
       "  </tbody>\n",
       "</table>\n",
       "<p>391 rows × 15 columns</p>\n",
       "</div>"
      ],
      "text/plain": [
       "     Inches   Res_tot  GHz  Ram_GB  Weight_Kg  TypeName_2 in 1 Convertible  \\\n",
       "0      13.3  8.294400  2.7      16       1.30                        False   \n",
       "1      15.6  1.049088  2.7       8       2.20                        False   \n",
       "2      15.6  1.049088  2.0       4       2.40                        False   \n",
       "3      14.0  2.073600  2.3       8       1.43                        False   \n",
       "4      13.3  2.073600  2.5       8       1.34                        False   \n",
       "..      ...       ...  ...     ...        ...                          ...   \n",
       "386    15.6  2.073600  2.8       8       2.40                        False   \n",
       "387    15.6  2.073600  2.6      16       3.31                        False   \n",
       "388    15.6  1.049088  2.5       4       1.96                        False   \n",
       "389    15.6  2.073600  1.5       4       2.10                        False   \n",
       "390    13.9  2.073600  1.8       8       1.37                         True   \n",
       "\n",
       "     TypeName_Gaming  TypeName_Netbook  TypeName_Notebook  TypeName_Ultrabook  \\\n",
       "0              False             False              False                True   \n",
       "1              False             False               True               False   \n",
       "2              False             False               True               False   \n",
       "3              False             False               True               False   \n",
       "4              False             False               True               False   \n",
       "..               ...               ...                ...                 ...   \n",
       "386             True             False              False               False   \n",
       "387             True             False              False               False   \n",
       "388            False             False               True               False   \n",
       "389            False             False               True               False   \n",
       "390            False             False              False               False   \n",
       "\n",
       "     TypeName_Workstation  Company_map_Dell  Company_map_HP  \\\n",
       "0                   False             False            True   \n",
       "1                   False             False           False   \n",
       "2                   False             False           False   \n",
       "3                   False             False            True   \n",
       "4                   False             False            True   \n",
       "..                    ...               ...             ...   \n",
       "386                 False             False           False   \n",
       "387                 False             False           False   \n",
       "388                 False             False            True   \n",
       "389                 False             False            True   \n",
       "390                 False             False           False   \n",
       "\n",
       "     Company_map_Lenovo  Company_map_Resto  \n",
       "0                 False              False  \n",
       "1                 False               True  \n",
       "2                 False               True  \n",
       "3                 False              False  \n",
       "4                 False              False  \n",
       "..                  ...                ...  \n",
       "386                True              False  \n",
       "387                True              False  \n",
       "388               False              False  \n",
       "389               False              False  \n",
       "390                True              False  \n",
       "\n",
       "[391 rows x 15 columns]"
      ]
     },
     "execution_count": 63,
     "metadata": {},
     "output_type": "execute_result"
    }
   ],
   "source": [
    "train  = pd.get_dummies(train, columns=feat_cat)\n",
    "train"
   ]
  },
  {
   "cell_type": "code",
   "execution_count": 64,
   "metadata": {},
   "outputs": [],
   "source": [
    "train.to_csv(\"./data/test_tratado.csv\")"
   ]
  },
  {
   "cell_type": "code",
   "execution_count": null,
   "metadata": {},
   "outputs": [],
   "source": []
  },
  {
   "cell_type": "markdown",
   "metadata": {},
   "source": [
    "-----------------------------------------------------------------------------------------------------------------"
   ]
  }
 ],
 "metadata": {
  "kernelspec": {
   "display_name": "Python 3.7.4 64-bit",
   "language": "python",
   "name": "python3"
  },
  "language_info": {
   "codemirror_mode": {
    "name": "ipython",
    "version": 3
   },
   "file_extension": ".py",
   "mimetype": "text/x-python",
   "name": "python",
   "nbconvert_exporter": "python",
   "pygments_lexer": "ipython3",
   "version": "3.10.11"
  },
  "vscode": {
   "interpreter": {
    "hash": "c0e4a4af33acb5d51fe8962d9e2e7588108ae49a894b6d1e35c2101e79360239"
   }
  }
 },
 "nbformat": 4,
 "nbformat_minor": 4
}
